{
 "cells": [
  {
   "cell_type": "code",
   "execution_count": 2,
   "metadata": {},
   "outputs": [],
   "source": [
    "import pandas as pd"
   ]
  },
  {
   "cell_type": "markdown",
   "metadata": {},
   "source": [
    "### Vamos primeiro procurar informação dos canais em DataRio Central de Atendimento"
   ]
  },
  {
   "cell_type": "code",
   "execution_count": 3,
   "metadata": {},
   "outputs": [
    {
     "data": {
      "text/html": [
       "<div>\n",
       "<style scoped>\n",
       "    .dataframe tbody tr th:only-of-type {\n",
       "        vertical-align: middle;\n",
       "    }\n",
       "\n",
       "    .dataframe tbody tr th {\n",
       "        vertical-align: top;\n",
       "    }\n",
       "\n",
       "    .dataframe thead th {\n",
       "        text-align: right;\n",
       "    }\n",
       "</style>\n",
       "<table border=\"1\" class=\"dataframe\">\n",
       "  <thead>\n",
       "    <tr style=\"text-align: right;\">\n",
       "      <th></th>\n",
       "      <th>id_estacao</th>\n",
       "      <th>data_medicao</th>\n",
       "      <th>coleta</th>\n",
       "      <th>ponto</th>\n",
       "      <th>data_inicio</th>\n",
       "      <th>data_fim</th>\n",
       "      <th>ph</th>\n",
       "      <th>temperatura_do_ar</th>\n",
       "      <th>temperatura_da_agua</th>\n",
       "      <th>salinidade</th>\n",
       "      <th>...</th>\n",
       "      <th>coliformes_totais</th>\n",
       "      <th>escherichia_coli</th>\n",
       "      <th>nitrogenio_amoniacal</th>\n",
       "      <th>fosforo_total_mg_l</th>\n",
       "      <th>fosforo_total_mg_kg</th>\n",
       "      <th>fosfato_total</th>\n",
       "      <th>nitrato</th>\n",
       "      <th>silica</th>\n",
       "      <th>sulfeto</th>\n",
       "      <th>materia_organica</th>\n",
       "    </tr>\n",
       "  </thead>\n",
       "  <tbody>\n",
       "    <tr>\n",
       "      <th>0</th>\n",
       "      <td>NaN</td>\n",
       "      <td>NaN</td>\n",
       "      <td>NaN</td>\n",
       "      <td>NaN</td>\n",
       "      <td>NaN</td>\n",
       "      <td>NaN</td>\n",
       "      <td>NaN</td>\n",
       "      <td>NaN</td>\n",
       "      <td>NaN</td>\n",
       "      <td>NaN</td>\n",
       "      <td>...</td>\n",
       "      <td>NaN</td>\n",
       "      <td>NaN</td>\n",
       "      <td>NaN</td>\n",
       "      <td>NaN</td>\n",
       "      <td>NaN</td>\n",
       "      <td>NaN</td>\n",
       "      <td>NaN</td>\n",
       "      <td>NaN</td>\n",
       "      <td>NaN</td>\n",
       "      <td>NaN</td>\n",
       "    </tr>\n",
       "    <tr>\n",
       "      <th>1</th>\n",
       "      <td>NaN</td>\n",
       "      <td>NaN</td>\n",
       "      <td>NaN</td>\n",
       "      <td>NaN</td>\n",
       "      <td>NaN</td>\n",
       "      <td>NaN</td>\n",
       "      <td>NaN</td>\n",
       "      <td>NaN</td>\n",
       "      <td>NaN</td>\n",
       "      <td>NaN</td>\n",
       "      <td>...</td>\n",
       "      <td>NaN</td>\n",
       "      <td>NaN</td>\n",
       "      <td>NaN</td>\n",
       "      <td>NaN</td>\n",
       "      <td>NaN</td>\n",
       "      <td>NaN</td>\n",
       "      <td>NaN</td>\n",
       "      <td>NaN</td>\n",
       "      <td>NaN</td>\n",
       "      <td>NaN</td>\n",
       "    </tr>\n",
       "    <tr>\n",
       "      <th>2</th>\n",
       "      <td>NaN</td>\n",
       "      <td>NaN</td>\n",
       "      <td>NaN</td>\n",
       "      <td>NaN</td>\n",
       "      <td>NaN</td>\n",
       "      <td>NaN</td>\n",
       "      <td>NaN</td>\n",
       "      <td>NaN</td>\n",
       "      <td>NaN</td>\n",
       "      <td>NaN</td>\n",
       "      <td>...</td>\n",
       "      <td>NaN</td>\n",
       "      <td>NaN</td>\n",
       "      <td>NaN</td>\n",
       "      <td>NaN</td>\n",
       "      <td>NaN</td>\n",
       "      <td>NaN</td>\n",
       "      <td>NaN</td>\n",
       "      <td>NaN</td>\n",
       "      <td>NaN</td>\n",
       "      <td>NaN</td>\n",
       "    </tr>\n",
       "    <tr>\n",
       "      <th>3</th>\n",
       "      <td>NaN</td>\n",
       "      <td>NaN</td>\n",
       "      <td>NaN</td>\n",
       "      <td>NaN</td>\n",
       "      <td>NaN</td>\n",
       "      <td>NaN</td>\n",
       "      <td>NaN</td>\n",
       "      <td>NaN</td>\n",
       "      <td>NaN</td>\n",
       "      <td>NaN</td>\n",
       "      <td>...</td>\n",
       "      <td>NaN</td>\n",
       "      <td>NaN</td>\n",
       "      <td>NaN</td>\n",
       "      <td>NaN</td>\n",
       "      <td>NaN</td>\n",
       "      <td>NaN</td>\n",
       "      <td>NaN</td>\n",
       "      <td>NaN</td>\n",
       "      <td>NaN</td>\n",
       "      <td>NaN</td>\n",
       "    </tr>\n",
       "    <tr>\n",
       "      <th>4</th>\n",
       "      <td>NaN</td>\n",
       "      <td>NaN</td>\n",
       "      <td>NaN</td>\n",
       "      <td>NaN</td>\n",
       "      <td>NaN</td>\n",
       "      <td>NaN</td>\n",
       "      <td>NaN</td>\n",
       "      <td>NaN</td>\n",
       "      <td>NaN</td>\n",
       "      <td>NaN</td>\n",
       "      <td>...</td>\n",
       "      <td>NaN</td>\n",
       "      <td>NaN</td>\n",
       "      <td>NaN</td>\n",
       "      <td>NaN</td>\n",
       "      <td>NaN</td>\n",
       "      <td>NaN</td>\n",
       "      <td>NaN</td>\n",
       "      <td>NaN</td>\n",
       "      <td>NaN</td>\n",
       "      <td>NaN</td>\n",
       "    </tr>\n",
       "  </tbody>\n",
       "</table>\n",
       "<p>5 rows × 25 columns</p>\n",
       "</div>"
      ],
      "text/plain": [
       "   id_estacao data_medicao coleta ponto data_inicio data_fim  ph  \\\n",
       "0         NaN          NaN    NaN   NaN         NaN      NaN NaN   \n",
       "1         NaN          NaN    NaN   NaN         NaN      NaN NaN   \n",
       "2         NaN          NaN    NaN   NaN         NaN      NaN NaN   \n",
       "3         NaN          NaN    NaN   NaN         NaN      NaN NaN   \n",
       "4         NaN          NaN    NaN   NaN         NaN      NaN NaN   \n",
       "\n",
       "   temperatura_do_ar temperatura_da_agua salinidade  ... coliformes_totais  \\\n",
       "0                NaN                 NaN        NaN  ...               NaN   \n",
       "1                NaN                 NaN        NaN  ...               NaN   \n",
       "2                NaN                 NaN        NaN  ...               NaN   \n",
       "3                NaN                 NaN        NaN  ...               NaN   \n",
       "4                NaN                 NaN        NaN  ...               NaN   \n",
       "\n",
       "  escherichia_coli  nitrogenio_amoniacal  fosforo_total_mg_l  \\\n",
       "0              NaN                   NaN                 NaN   \n",
       "1              NaN                   NaN                 NaN   \n",
       "2              NaN                   NaN                 NaN   \n",
       "3              NaN                   NaN                 NaN   \n",
       "4              NaN                   NaN                 NaN   \n",
       "\n",
       "   fosforo_total_mg_kg fosfato_total nitrato silica sulfeto  materia_organica  \n",
       "0                  NaN           NaN     NaN    NaN     NaN               NaN  \n",
       "1                  NaN           NaN     NaN    NaN     NaN               NaN  \n",
       "2                  NaN           NaN     NaN    NaN     NaN               NaN  \n",
       "3                  NaN           NaN     NaN    NaN     NaN               NaN  \n",
       "4                  NaN           NaN     NaN    NaN     NaN               NaN  \n",
       "\n",
       "[5 rows x 25 columns]"
      ]
     },
     "execution_count": 3,
     "metadata": {},
     "output_type": "execute_result"
    }
   ],
   "source": [
    "saneamento_drenagem = pd.read_csv(\"data/others/rj-rioaguas.saneamento_drenagem.qualidade_agua .csv\")\n",
    "saneamento_drenagem.head()"
   ]
  },
  {
   "cell_type": "code",
   "execution_count": 4,
   "metadata": {},
   "outputs": [
    {
     "name": "stdout",
     "output_type": "stream",
     "text": [
      "Index(['id_estacao', 'data_medicao', 'coleta', 'ponto', 'data_inicio',\n",
      "       'data_fim', 'ph', 'temperatura_do_ar', 'temperatura_da_agua',\n",
      "       'salinidade', 'oxigenio_dissolvido', 'turbidez', 'disco_de_secchi',\n",
      "       'profundidade_total', 'profundidade_de_coleta', 'coliformes_totais',\n",
      "       'escherichia_coli', 'nitrogenio_amoniacal', 'fosforo_total_mg_l',\n",
      "       'fosforo_total_mg_kg', 'fosfato_total', 'nitrato', 'silica', 'sulfeto',\n",
      "       'materia_organica'],\n",
      "      dtype='object')\n"
     ]
    }
   ],
   "source": [
    "print(saneamento_drenagem.columns)"
   ]
  },
  {
   "cell_type": "code",
   "execution_count": 5,
   "metadata": {},
   "outputs": [
    {
     "data": {
      "text/plain": [
       "array([nan,  1.])"
      ]
     },
     "execution_count": 5,
     "metadata": {},
     "output_type": "execute_result"
    }
   ],
   "source": [
    "saneamento_drenagem[\"id_estacao\"].unique()"
   ]
  },
  {
   "cell_type": "code",
   "execution_count": 6,
   "metadata": {},
   "outputs": [
    {
     "name": "stdout",
     "output_type": "stream",
     "text": [
      "<class 'pandas.core.frame.DataFrame'>\n",
      "RangeIndex: 6733 entries, 0 to 6732\n",
      "Data columns (total 25 columns):\n",
      " #   Column                  Non-Null Count  Dtype  \n",
      "---  ------                  --------------  -----  \n",
      " 0   id_estacao              6608 non-null   float64\n",
      " 1   data_medicao            6426 non-null   object \n",
      " 2   coleta                  6608 non-null   object \n",
      " 3   ponto                   6608 non-null   object \n",
      " 4   data_inicio             6608 non-null   object \n",
      " 5   data_fim                6426 non-null   object \n",
      " 6   ph                      5408 non-null   float64\n",
      " 7   temperatura_do_ar       1627 non-null   float64\n",
      " 8   temperatura_da_agua     6590 non-null   object \n",
      " 9   salinidade              5408 non-null   object \n",
      " 10  oxigenio_dissolvido     6596 non-null   object \n",
      " 11  turbidez                5396 non-null   object \n",
      " 12  disco_de_secchi         1621 non-null   float64\n",
      " 13  profundidade_total      1621 non-null   float64\n",
      " 14  profundidade_de_coleta  5396 non-null   float64\n",
      " 15  coliformes_totais       1621 non-null   object \n",
      " 16  escherichia_coli        1621 non-null   object \n",
      " 17  nitrogenio_amoniacal    5376 non-null   object \n",
      " 18  fosforo_total_mg_l      5276 non-null   object \n",
      " 19  fosforo_total_mg_kg     24 non-null     float64\n",
      " 20  fosfato_total           5276 non-null   object \n",
      " 21  nitrato                 5336 non-null   object \n",
      " 22  silica                  5396 non-null   object \n",
      " 23  sulfeto                 5394 non-null   object \n",
      " 24  materia_organica        24 non-null     float64\n",
      "dtypes: float64(8), object(17)\n",
      "memory usage: 1.3+ MB\n"
     ]
    }
   ],
   "source": [
    "saneamento_drenagem.info()"
   ]
  },
  {
   "cell_type": "code",
   "execution_count": 7,
   "metadata": {},
   "outputs": [
    {
     "data": {
      "text/html": [
       "<div>\n",
       "<style scoped>\n",
       "    .dataframe tbody tr th:only-of-type {\n",
       "        vertical-align: middle;\n",
       "    }\n",
       "\n",
       "    .dataframe tbody tr th {\n",
       "        vertical-align: top;\n",
       "    }\n",
       "\n",
       "    .dataframe thead th {\n",
       "        text-align: right;\n",
       "    }\n",
       "</style>\n",
       "<table border=\"1\" class=\"dataframe\">\n",
       "  <thead>\n",
       "    <tr style=\"text-align: right;\">\n",
       "      <th></th>\n",
       "      <th>id_estacao</th>\n",
       "      <th>data_medicao</th>\n",
       "      <th>coleta</th>\n",
       "      <th>ponto</th>\n",
       "      <th>data_inicio</th>\n",
       "      <th>data_fim</th>\n",
       "      <th>ph</th>\n",
       "      <th>temperatura_do_ar</th>\n",
       "      <th>temperatura_da_agua</th>\n",
       "      <th>salinidade</th>\n",
       "      <th>...</th>\n",
       "      <th>coliformes_totais</th>\n",
       "      <th>escherichia_coli</th>\n",
       "      <th>nitrogenio_amoniacal</th>\n",
       "      <th>fosforo_total_mg_l</th>\n",
       "      <th>fosforo_total_mg_kg</th>\n",
       "      <th>fosfato_total</th>\n",
       "      <th>nitrato</th>\n",
       "      <th>silica</th>\n",
       "      <th>sulfeto</th>\n",
       "      <th>materia_organica</th>\n",
       "    </tr>\n",
       "  </thead>\n",
       "  <tbody>\n",
       "    <tr>\n",
       "      <th>10</th>\n",
       "      <td>1.0</td>\n",
       "      <td>2022-12-20 11:21:00</td>\n",
       "      <td>Sedimento</td>\n",
       "      <td>LRF1 - Fundo</td>\n",
       "      <td>2022-12-20 11:16:00</td>\n",
       "      <td>2022-12-20 11:21:00</td>\n",
       "      <td>7.10</td>\n",
       "      <td>NaN</td>\n",
       "      <td>NaN</td>\n",
       "      <td>13.4</td>\n",
       "      <td>...</td>\n",
       "      <td>NaN</td>\n",
       "      <td>NaN</td>\n",
       "      <td>NaN</td>\n",
       "      <td>NaN</td>\n",
       "      <td>1.044</td>\n",
       "      <td>NaN</td>\n",
       "      <td>NaN</td>\n",
       "      <td>NaN</td>\n",
       "      <td>NaN</td>\n",
       "      <td>19.9665</td>\n",
       "    </tr>\n",
       "    <tr>\n",
       "      <th>13</th>\n",
       "      <td>1.0</td>\n",
       "      <td>2024-06-07 14:53:00</td>\n",
       "      <td>Sedimento</td>\n",
       "      <td>LRF6 - Fundo</td>\n",
       "      <td>2024-06-07 14:38:00</td>\n",
       "      <td>2024-06-07 14:53:00</td>\n",
       "      <td>NaN</td>\n",
       "      <td>NaN</td>\n",
       "      <td>NaN</td>\n",
       "      <td>NaN</td>\n",
       "      <td>...</td>\n",
       "      <td>NaN</td>\n",
       "      <td>NaN</td>\n",
       "      <td>NaN</td>\n",
       "      <td>NaN</td>\n",
       "      <td>1.050</td>\n",
       "      <td>NaN</td>\n",
       "      <td>NaN</td>\n",
       "      <td>NaN</td>\n",
       "      <td>NaN</td>\n",
       "      <td>4.7000</td>\n",
       "    </tr>\n",
       "    <tr>\n",
       "      <th>21</th>\n",
       "      <td>1.0</td>\n",
       "      <td>2022-12-20 10:45:00</td>\n",
       "      <td>Sedimento</td>\n",
       "      <td>LRF3 - Fundo</td>\n",
       "      <td>2022-12-20 10:44:00</td>\n",
       "      <td>2022-12-20 10:45:00</td>\n",
       "      <td>7.09</td>\n",
       "      <td>NaN</td>\n",
       "      <td>NaN</td>\n",
       "      <td>13.5</td>\n",
       "      <td>...</td>\n",
       "      <td>NaN</td>\n",
       "      <td>NaN</td>\n",
       "      <td>NaN</td>\n",
       "      <td>NaN</td>\n",
       "      <td>6.130</td>\n",
       "      <td>NaN</td>\n",
       "      <td>NaN</td>\n",
       "      <td>NaN</td>\n",
       "      <td>NaN</td>\n",
       "      <td>18.6162</td>\n",
       "    </tr>\n",
       "    <tr>\n",
       "      <th>32</th>\n",
       "      <td>1.0</td>\n",
       "      <td>2022-12-20 11:48:00</td>\n",
       "      <td>Sedimento</td>\n",
       "      <td>LRF4 - Fundo</td>\n",
       "      <td>2022-12-20 11:43:00</td>\n",
       "      <td>2022-12-20 11:48:00</td>\n",
       "      <td>6.97</td>\n",
       "      <td>NaN</td>\n",
       "      <td>NaN</td>\n",
       "      <td>13.6</td>\n",
       "      <td>...</td>\n",
       "      <td>NaN</td>\n",
       "      <td>NaN</td>\n",
       "      <td>NaN</td>\n",
       "      <td>NaN</td>\n",
       "      <td>0.724</td>\n",
       "      <td>NaN</td>\n",
       "      <td>NaN</td>\n",
       "      <td>NaN</td>\n",
       "      <td>NaN</td>\n",
       "      <td>22.1691</td>\n",
       "    </tr>\n",
       "    <tr>\n",
       "      <th>53</th>\n",
       "      <td>1.0</td>\n",
       "      <td>2022-12-20 11:32:00</td>\n",
       "      <td>Sedimento</td>\n",
       "      <td>LRF2 - Fundo</td>\n",
       "      <td>2022-12-20 11:27:00</td>\n",
       "      <td>2022-12-20 11:32:00</td>\n",
       "      <td>7.00</td>\n",
       "      <td>NaN</td>\n",
       "      <td>NaN</td>\n",
       "      <td>13.6</td>\n",
       "      <td>...</td>\n",
       "      <td>NaN</td>\n",
       "      <td>NaN</td>\n",
       "      <td>NaN</td>\n",
       "      <td>NaN</td>\n",
       "      <td>2.776</td>\n",
       "      <td>NaN</td>\n",
       "      <td>NaN</td>\n",
       "      <td>NaN</td>\n",
       "      <td>NaN</td>\n",
       "      <td>16.8702</td>\n",
       "    </tr>\n",
       "    <tr>\n",
       "      <th>71</th>\n",
       "      <td>1.0</td>\n",
       "      <td>2023-06-07 13:47:00</td>\n",
       "      <td>Sedimento</td>\n",
       "      <td>LRF1 - Fundo</td>\n",
       "      <td>2023-06-07 13:32:00</td>\n",
       "      <td>2023-06-07 13:47:00</td>\n",
       "      <td>NaN</td>\n",
       "      <td>NaN</td>\n",
       "      <td>NaN</td>\n",
       "      <td>NaN</td>\n",
       "      <td>...</td>\n",
       "      <td>NaN</td>\n",
       "      <td>NaN</td>\n",
       "      <td>NaN</td>\n",
       "      <td>NaN</td>\n",
       "      <td>0.910</td>\n",
       "      <td>NaN</td>\n",
       "      <td>NaN</td>\n",
       "      <td>NaN</td>\n",
       "      <td>NaN</td>\n",
       "      <td>7.8000</td>\n",
       "    </tr>\n",
       "    <tr>\n",
       "      <th>72</th>\n",
       "      <td>1.0</td>\n",
       "      <td>2023-06-07 15:23:00</td>\n",
       "      <td>Sedimento</td>\n",
       "      <td>LRF4 - Fundo</td>\n",
       "      <td>2023-06-07 15:08:00</td>\n",
       "      <td>2023-06-07 15:23:00</td>\n",
       "      <td>NaN</td>\n",
       "      <td>NaN</td>\n",
       "      <td>NaN</td>\n",
       "      <td>NaN</td>\n",
       "      <td>...</td>\n",
       "      <td>NaN</td>\n",
       "      <td>NaN</td>\n",
       "      <td>NaN</td>\n",
       "      <td>NaN</td>\n",
       "      <td>0.890</td>\n",
       "      <td>NaN</td>\n",
       "      <td>NaN</td>\n",
       "      <td>NaN</td>\n",
       "      <td>NaN</td>\n",
       "      <td>6.3000</td>\n",
       "    </tr>\n",
       "    <tr>\n",
       "      <th>75</th>\n",
       "      <td>1.0</td>\n",
       "      <td>2022-12-20 12:22:00</td>\n",
       "      <td>Sedimento</td>\n",
       "      <td>LRF5 - Fundo</td>\n",
       "      <td>2022-12-20 12:17:00</td>\n",
       "      <td>2022-12-20 12:22:00</td>\n",
       "      <td>7.96</td>\n",
       "      <td>NaN</td>\n",
       "      <td>NaN</td>\n",
       "      <td>13.2</td>\n",
       "      <td>...</td>\n",
       "      <td>NaN</td>\n",
       "      <td>NaN</td>\n",
       "      <td>NaN</td>\n",
       "      <td>NaN</td>\n",
       "      <td>0.787</td>\n",
       "      <td>NaN</td>\n",
       "      <td>NaN</td>\n",
       "      <td>NaN</td>\n",
       "      <td>NaN</td>\n",
       "      <td>20.8165</td>\n",
       "    </tr>\n",
       "    <tr>\n",
       "      <th>76</th>\n",
       "      <td>1.0</td>\n",
       "      <td>2023-06-07 13:06:00</td>\n",
       "      <td>Sedimento</td>\n",
       "      <td>LRF2 - Fundo</td>\n",
       "      <td>2023-06-07 12:51:00</td>\n",
       "      <td>2023-06-07 13:06:00</td>\n",
       "      <td>NaN</td>\n",
       "      <td>NaN</td>\n",
       "      <td>NaN</td>\n",
       "      <td>NaN</td>\n",
       "      <td>...</td>\n",
       "      <td>NaN</td>\n",
       "      <td>NaN</td>\n",
       "      <td>NaN</td>\n",
       "      <td>NaN</td>\n",
       "      <td>0.830</td>\n",
       "      <td>NaN</td>\n",
       "      <td>NaN</td>\n",
       "      <td>NaN</td>\n",
       "      <td>NaN</td>\n",
       "      <td>7.4000</td>\n",
       "    </tr>\n",
       "    <tr>\n",
       "      <th>77</th>\n",
       "      <td>1.0</td>\n",
       "      <td>2024-06-07 13:47:00</td>\n",
       "      <td>Sedimento</td>\n",
       "      <td>LRF1 - Fundo</td>\n",
       "      <td>2024-06-07 13:32:00</td>\n",
       "      <td>2024-06-07 13:47:00</td>\n",
       "      <td>NaN</td>\n",
       "      <td>NaN</td>\n",
       "      <td>NaN</td>\n",
       "      <td>NaN</td>\n",
       "      <td>...</td>\n",
       "      <td>NaN</td>\n",
       "      <td>NaN</td>\n",
       "      <td>NaN</td>\n",
       "      <td>NaN</td>\n",
       "      <td>0.910</td>\n",
       "      <td>NaN</td>\n",
       "      <td>NaN</td>\n",
       "      <td>NaN</td>\n",
       "      <td>NaN</td>\n",
       "      <td>7.8000</td>\n",
       "    </tr>\n",
       "  </tbody>\n",
       "</table>\n",
       "<p>10 rows × 25 columns</p>\n",
       "</div>"
      ],
      "text/plain": [
       "    id_estacao         data_medicao     coleta         ponto  \\\n",
       "10         1.0  2022-12-20 11:21:00  Sedimento  LRF1 - Fundo   \n",
       "13         1.0  2024-06-07 14:53:00  Sedimento  LRF6 - Fundo   \n",
       "21         1.0  2022-12-20 10:45:00  Sedimento  LRF3 - Fundo   \n",
       "32         1.0  2022-12-20 11:48:00  Sedimento  LRF4 - Fundo   \n",
       "53         1.0  2022-12-20 11:32:00  Sedimento  LRF2 - Fundo   \n",
       "71         1.0  2023-06-07 13:47:00  Sedimento  LRF1 - Fundo   \n",
       "72         1.0  2023-06-07 15:23:00  Sedimento  LRF4 - Fundo   \n",
       "75         1.0  2022-12-20 12:22:00  Sedimento  LRF5 - Fundo   \n",
       "76         1.0  2023-06-07 13:06:00  Sedimento  LRF2 - Fundo   \n",
       "77         1.0  2024-06-07 13:47:00  Sedimento  LRF1 - Fundo   \n",
       "\n",
       "            data_inicio             data_fim    ph  temperatura_do_ar  \\\n",
       "10  2022-12-20 11:16:00  2022-12-20 11:21:00  7.10                NaN   \n",
       "13  2024-06-07 14:38:00  2024-06-07 14:53:00   NaN                NaN   \n",
       "21  2022-12-20 10:44:00  2022-12-20 10:45:00  7.09                NaN   \n",
       "32  2022-12-20 11:43:00  2022-12-20 11:48:00  6.97                NaN   \n",
       "53  2022-12-20 11:27:00  2022-12-20 11:32:00  7.00                NaN   \n",
       "71  2023-06-07 13:32:00  2023-06-07 13:47:00   NaN                NaN   \n",
       "72  2023-06-07 15:08:00  2023-06-07 15:23:00   NaN                NaN   \n",
       "75  2022-12-20 12:17:00  2022-12-20 12:22:00  7.96                NaN   \n",
       "76  2023-06-07 12:51:00  2023-06-07 13:06:00   NaN                NaN   \n",
       "77  2024-06-07 13:32:00  2024-06-07 13:47:00   NaN                NaN   \n",
       "\n",
       "   temperatura_da_agua salinidade  ... coliformes_totais escherichia_coli  \\\n",
       "10                 NaN       13.4  ...               NaN              NaN   \n",
       "13                 NaN        NaN  ...               NaN              NaN   \n",
       "21                 NaN       13.5  ...               NaN              NaN   \n",
       "32                 NaN       13.6  ...               NaN              NaN   \n",
       "53                 NaN       13.6  ...               NaN              NaN   \n",
       "71                 NaN        NaN  ...               NaN              NaN   \n",
       "72                 NaN        NaN  ...               NaN              NaN   \n",
       "75                 NaN       13.2  ...               NaN              NaN   \n",
       "76                 NaN        NaN  ...               NaN              NaN   \n",
       "77                 NaN        NaN  ...               NaN              NaN   \n",
       "\n",
       "    nitrogenio_amoniacal  fosforo_total_mg_l  fosforo_total_mg_kg  \\\n",
       "10                   NaN                 NaN                1.044   \n",
       "13                   NaN                 NaN                1.050   \n",
       "21                   NaN                 NaN                6.130   \n",
       "32                   NaN                 NaN                0.724   \n",
       "53                   NaN                 NaN                2.776   \n",
       "71                   NaN                 NaN                0.910   \n",
       "72                   NaN                 NaN                0.890   \n",
       "75                   NaN                 NaN                0.787   \n",
       "76                   NaN                 NaN                0.830   \n",
       "77                   NaN                 NaN                0.910   \n",
       "\n",
       "   fosfato_total nitrato silica sulfeto  materia_organica  \n",
       "10           NaN     NaN    NaN     NaN           19.9665  \n",
       "13           NaN     NaN    NaN     NaN            4.7000  \n",
       "21           NaN     NaN    NaN     NaN           18.6162  \n",
       "32           NaN     NaN    NaN     NaN           22.1691  \n",
       "53           NaN     NaN    NaN     NaN           16.8702  \n",
       "71           NaN     NaN    NaN     NaN            7.8000  \n",
       "72           NaN     NaN    NaN     NaN            6.3000  \n",
       "75           NaN     NaN    NaN     NaN           20.8165  \n",
       "76           NaN     NaN    NaN     NaN            7.4000  \n",
       "77           NaN     NaN    NaN     NaN            7.8000  \n",
       "\n",
       "[10 rows x 25 columns]"
      ]
     },
     "execution_count": 7,
     "metadata": {},
     "output_type": "execute_result"
    }
   ],
   "source": [
    "saneamento_rio_aguas_not_null = saneamento_drenagem.dropna(how='all')\n",
    "saneamento_rio_aguas_not_null.head(10)"
   ]
  },
  {
   "cell_type": "code",
   "execution_count": 8,
   "metadata": {},
   "outputs": [
    {
     "name": "stdout",
     "output_type": "stream",
     "text": [
      "Index(['id_estacao', 'data_medicao', 'coleta', 'ponto', 'data_inicio',\n",
      "       'data_fim', 'ph', 'temperatura_do_ar', 'temperatura_da_agua',\n",
      "       'salinidade', 'oxigenio_dissolvido', 'turbidez', 'disco_de_secchi',\n",
      "       'profundidade_total', 'profundidade_de_coleta', 'coliformes_totais',\n",
      "       'escherichia_coli', 'nitrogenio_amoniacal', 'fosforo_total_mg_l',\n",
      "       'fosforo_total_mg_kg', 'fosfato_total', 'nitrato', 'silica', 'sulfeto',\n",
      "       'materia_organica'],\n",
      "      dtype='object')\n"
     ]
    }
   ],
   "source": [
    "print(saneamento_rio_aguas_not_null.columns)"
   ]
  },
  {
   "cell_type": "code",
   "execution_count": 9,
   "metadata": {},
   "outputs": [
    {
     "data": {
      "text/plain": [
       "array(['Sedimento', 'Extra', 'Regular'], dtype=object)"
      ]
     },
     "execution_count": 9,
     "metadata": {},
     "output_type": "execute_result"
    }
   ],
   "source": [
    "saneamento_rio_aguas_not_null[\"coleta\"].unique()"
   ]
  },
  {
   "cell_type": "code",
   "execution_count": 10,
   "metadata": {},
   "outputs": [
    {
     "data": {
      "text/html": [
       "<div>\n",
       "<style scoped>\n",
       "    .dataframe tbody tr th:only-of-type {\n",
       "        vertical-align: middle;\n",
       "    }\n",
       "\n",
       "    .dataframe tbody tr th {\n",
       "        vertical-align: top;\n",
       "    }\n",
       "\n",
       "    .dataframe thead th {\n",
       "        text-align: right;\n",
       "    }\n",
       "</style>\n",
       "<table border=\"1\" class=\"dataframe\">\n",
       "  <thead>\n",
       "    <tr style=\"text-align: right;\">\n",
       "      <th></th>\n",
       "      <th>id_estacao</th>\n",
       "      <th>data_medicao</th>\n",
       "      <th>coleta</th>\n",
       "      <th>ponto</th>\n",
       "      <th>data_inicio</th>\n",
       "      <th>data_fim</th>\n",
       "      <th>ph</th>\n",
       "      <th>temperatura_do_ar</th>\n",
       "      <th>temperatura_da_agua</th>\n",
       "      <th>salinidade</th>\n",
       "      <th>...</th>\n",
       "      <th>coliformes_totais</th>\n",
       "      <th>escherichia_coli</th>\n",
       "      <th>nitrogenio_amoniacal</th>\n",
       "      <th>fosforo_total_mg_l</th>\n",
       "      <th>fosforo_total_mg_kg</th>\n",
       "      <th>fosfato_total</th>\n",
       "      <th>nitrato</th>\n",
       "      <th>silica</th>\n",
       "      <th>sulfeto</th>\n",
       "      <th>materia_organica</th>\n",
       "    </tr>\n",
       "  </thead>\n",
       "  <tbody>\n",
       "    <tr>\n",
       "      <th>143</th>\n",
       "      <td>1.0</td>\n",
       "      <td>NaN</td>\n",
       "      <td>Extra</td>\n",
       "      <td>LRF3 - Superfície</td>\n",
       "      <td>2023-12-08 10:43:00</td>\n",
       "      <td>NaN</td>\n",
       "      <td>NaN</td>\n",
       "      <td>NaN</td>\n",
       "      <td>7</td>\n",
       "      <td>NaN</td>\n",
       "      <td>...</td>\n",
       "      <td>NaN</td>\n",
       "      <td>NaN</td>\n",
       "      <td>NaN</td>\n",
       "      <td>NaN</td>\n",
       "      <td>NaN</td>\n",
       "      <td>NaN</td>\n",
       "      <td>NaN</td>\n",
       "      <td>NaN</td>\n",
       "      <td>NaN</td>\n",
       "      <td>NaN</td>\n",
       "    </tr>\n",
       "    <tr>\n",
       "      <th>144</th>\n",
       "      <td>1.0</td>\n",
       "      <td>2024-07-08 09:44:00</td>\n",
       "      <td>Extra</td>\n",
       "      <td>LRF6 - Fundo</td>\n",
       "      <td>2024-07-08 09:41:00</td>\n",
       "      <td>2024-07-08 09:44:00</td>\n",
       "      <td>NaN</td>\n",
       "      <td>NaN</td>\n",
       "      <td>20</td>\n",
       "      <td>NaN</td>\n",
       "      <td>...</td>\n",
       "      <td>NaN</td>\n",
       "      <td>NaN</td>\n",
       "      <td>NaN</td>\n",
       "      <td>NaN</td>\n",
       "      <td>NaN</td>\n",
       "      <td>NaN</td>\n",
       "      <td>NaN</td>\n",
       "      <td>NaN</td>\n",
       "      <td>NaN</td>\n",
       "      <td>NaN</td>\n",
       "    </tr>\n",
       "    <tr>\n",
       "      <th>145</th>\n",
       "      <td>1.0</td>\n",
       "      <td>2023-07-08 09:44:00</td>\n",
       "      <td>Extra</td>\n",
       "      <td>LRF6 - Fundo</td>\n",
       "      <td>2023-07-08 09:41:00</td>\n",
       "      <td>2023-07-08 09:44:00</td>\n",
       "      <td>NaN</td>\n",
       "      <td>NaN</td>\n",
       "      <td>20</td>\n",
       "      <td>NaN</td>\n",
       "      <td>...</td>\n",
       "      <td>NaN</td>\n",
       "      <td>NaN</td>\n",
       "      <td>NaN</td>\n",
       "      <td>NaN</td>\n",
       "      <td>NaN</td>\n",
       "      <td>NaN</td>\n",
       "      <td>NaN</td>\n",
       "      <td>NaN</td>\n",
       "      <td>NaN</td>\n",
       "      <td>NaN</td>\n",
       "    </tr>\n",
       "    <tr>\n",
       "      <th>146</th>\n",
       "      <td>1.0</td>\n",
       "      <td>2023-07-23 10:11:00</td>\n",
       "      <td>Extra</td>\n",
       "      <td>LRF3 - Fundo</td>\n",
       "      <td>2023-07-23 10:08:00</td>\n",
       "      <td>2023-07-23 10:11:00</td>\n",
       "      <td>NaN</td>\n",
       "      <td>NaN</td>\n",
       "      <td>21</td>\n",
       "      <td>NaN</td>\n",
       "      <td>...</td>\n",
       "      <td>NaN</td>\n",
       "      <td>NaN</td>\n",
       "      <td>NaN</td>\n",
       "      <td>NaN</td>\n",
       "      <td>NaN</td>\n",
       "      <td>NaN</td>\n",
       "      <td>NaN</td>\n",
       "      <td>NaN</td>\n",
       "      <td>NaN</td>\n",
       "      <td>NaN</td>\n",
       "    </tr>\n",
       "    <tr>\n",
       "      <th>147</th>\n",
       "      <td>1.0</td>\n",
       "      <td>2023-07-23 09:25:00</td>\n",
       "      <td>Extra</td>\n",
       "      <td>LRF6 - Superfície</td>\n",
       "      <td>2023-07-23 09:22:00</td>\n",
       "      <td>2023-07-23 09:25:00</td>\n",
       "      <td>NaN</td>\n",
       "      <td>NaN</td>\n",
       "      <td>21</td>\n",
       "      <td>NaN</td>\n",
       "      <td>...</td>\n",
       "      <td>NaN</td>\n",
       "      <td>NaN</td>\n",
       "      <td>NaN</td>\n",
       "      <td>NaN</td>\n",
       "      <td>NaN</td>\n",
       "      <td>NaN</td>\n",
       "      <td>NaN</td>\n",
       "      <td>NaN</td>\n",
       "      <td>NaN</td>\n",
       "      <td>NaN</td>\n",
       "    </tr>\n",
       "  </tbody>\n",
       "</table>\n",
       "<p>5 rows × 25 columns</p>\n",
       "</div>"
      ],
      "text/plain": [
       "     id_estacao         data_medicao coleta              ponto  \\\n",
       "143         1.0                  NaN  Extra  LRF3 - Superfície   \n",
       "144         1.0  2024-07-08 09:44:00  Extra       LRF6 - Fundo   \n",
       "145         1.0  2023-07-08 09:44:00  Extra       LRF6 - Fundo   \n",
       "146         1.0  2023-07-23 10:11:00  Extra       LRF3 - Fundo   \n",
       "147         1.0  2023-07-23 09:25:00  Extra  LRF6 - Superfície   \n",
       "\n",
       "             data_inicio             data_fim  ph  temperatura_do_ar  \\\n",
       "143  2023-12-08 10:43:00                  NaN NaN                NaN   \n",
       "144  2024-07-08 09:41:00  2024-07-08 09:44:00 NaN                NaN   \n",
       "145  2023-07-08 09:41:00  2023-07-08 09:44:00 NaN                NaN   \n",
       "146  2023-07-23 10:08:00  2023-07-23 10:11:00 NaN                NaN   \n",
       "147  2023-07-23 09:22:00  2023-07-23 09:25:00 NaN                NaN   \n",
       "\n",
       "    temperatura_da_agua salinidade  ... coliformes_totais escherichia_coli  \\\n",
       "143                   7        NaN  ...               NaN              NaN   \n",
       "144                  20        NaN  ...               NaN              NaN   \n",
       "145                  20        NaN  ...               NaN              NaN   \n",
       "146                  21        NaN  ...               NaN              NaN   \n",
       "147                  21        NaN  ...               NaN              NaN   \n",
       "\n",
       "     nitrogenio_amoniacal  fosforo_total_mg_l  fosforo_total_mg_kg  \\\n",
       "143                   NaN                 NaN                  NaN   \n",
       "144                   NaN                 NaN                  NaN   \n",
       "145                   NaN                 NaN                  NaN   \n",
       "146                   NaN                 NaN                  NaN   \n",
       "147                   NaN                 NaN                  NaN   \n",
       "\n",
       "    fosfato_total nitrato silica sulfeto  materia_organica  \n",
       "143           NaN     NaN    NaN     NaN               NaN  \n",
       "144           NaN     NaN    NaN     NaN               NaN  \n",
       "145           NaN     NaN    NaN     NaN               NaN  \n",
       "146           NaN     NaN    NaN     NaN               NaN  \n",
       "147           NaN     NaN    NaN     NaN               NaN  \n",
       "\n",
       "[5 rows x 25 columns]"
      ]
     },
     "execution_count": 10,
     "metadata": {},
     "output_type": "execute_result"
    }
   ],
   "source": [
    "saneamento_rio_aguas_extra = saneamento_rio_aguas_not_null[saneamento_rio_aguas_not_null['coleta'] == 'Extra']\n",
    "saneamento_rio_aguas_extra.head()"
   ]
  },
  {
   "cell_type": "code",
   "execution_count": 11,
   "metadata": {},
   "outputs": [
    {
     "name": "stdout",
     "output_type": "stream",
     "text": [
      "Index(['id_estacao', 'data_medicao', 'coleta', 'ponto', 'data_inicio',\n",
      "       'data_fim', 'ph', 'temperatura_do_ar', 'temperatura_da_agua',\n",
      "       'salinidade', 'oxigenio_dissolvido', 'turbidez', 'disco_de_secchi',\n",
      "       'profundidade_total', 'profundidade_de_coleta', 'coliformes_totais',\n",
      "       'escherichia_coli', 'nitrogenio_amoniacal', 'fosforo_total_mg_l',\n",
      "       'fosforo_total_mg_kg', 'fosfato_total', 'nitrato', 'silica', 'sulfeto',\n",
      "       'materia_organica'],\n",
      "      dtype='object')\n"
     ]
    }
   ],
   "source": [
    "print(saneamento_rio_aguas_extra.columns)"
   ]
  },
  {
   "cell_type": "code",
   "execution_count": 12,
   "metadata": {},
   "outputs": [],
   "source": [
    "# Lista das colunas a serem removidas\n",
    "colunas_a_remover = [\"ph\", \"temperatura_do_ar\", \"salinidade\", \"turbidez\", \n",
    "                     \"disco_de_secchi\", \"profundidade_total\", \"profundidade_de_coleta\", \n",
    "                     \"coliformes_totais\", \"escherichia_coli\", \"nitrogenio_amoniacal\", \n",
    "                     \"fosforo_total_mg_l\", \"fosforo_total_mg_kg\", \"sulfeto\", \"materia_organica\",\n",
    "                     \"fosfato_total\", \"nitrato\", \"silica\", \"sulfeto\"]\n",
    "\n",
    "# Removendo as colunas\n",
    "saneamento_rio_aguas_extra = saneamento_rio_aguas_extra.drop(colunas_a_remover, axis=1)"
   ]
  },
  {
   "cell_type": "code",
   "execution_count": 13,
   "metadata": {},
   "outputs": [
    {
     "name": "stdout",
     "output_type": "stream",
     "text": [
      "<class 'pandas.core.frame.DataFrame'>\n",
      "Int64Index: 1104 entries, 144 to 6711\n",
      "Data columns (total 8 columns):\n",
      " #   Column               Non-Null Count  Dtype  \n",
      "---  ------               --------------  -----  \n",
      " 0   id_estacao           1104 non-null   float64\n",
      " 1   data_medicao         1104 non-null   object \n",
      " 2   coleta               1104 non-null   object \n",
      " 3   ponto                1104 non-null   object \n",
      " 4   data_inicio          1104 non-null   object \n",
      " 5   data_fim             1104 non-null   object \n",
      " 6   temperatura_da_agua  1104 non-null   object \n",
      " 7   oxigenio_dissolvido  1104 non-null   object \n",
      "dtypes: float64(1), object(7)\n",
      "memory usage: 77.6+ KB\n"
     ]
    }
   ],
   "source": [
    "sanemanto_extra_limpo= saneamento_rio_aguas_extra.dropna(how=\"any\")\n",
    "sanemanto_extra_limpo.info()"
   ]
  },
  {
   "cell_type": "code",
   "execution_count": 14,
   "metadata": {},
   "outputs": [
    {
     "data": {
      "text/html": [
       "<div>\n",
       "<style scoped>\n",
       "    .dataframe tbody tr th:only-of-type {\n",
       "        vertical-align: middle;\n",
       "    }\n",
       "\n",
       "    .dataframe tbody tr th {\n",
       "        vertical-align: top;\n",
       "    }\n",
       "\n",
       "    .dataframe thead th {\n",
       "        text-align: right;\n",
       "    }\n",
       "</style>\n",
       "<table border=\"1\" class=\"dataframe\">\n",
       "  <thead>\n",
       "    <tr style=\"text-align: right;\">\n",
       "      <th></th>\n",
       "      <th>id_estacao</th>\n",
       "      <th>data_medicao</th>\n",
       "      <th>coleta</th>\n",
       "      <th>ponto</th>\n",
       "      <th>data_inicio</th>\n",
       "      <th>data_fim</th>\n",
       "      <th>ph</th>\n",
       "      <th>temperatura_do_ar</th>\n",
       "      <th>temperatura_da_agua</th>\n",
       "      <th>salinidade</th>\n",
       "      <th>...</th>\n",
       "      <th>coliformes_totais</th>\n",
       "      <th>escherichia_coli</th>\n",
       "      <th>nitrogenio_amoniacal</th>\n",
       "      <th>fosforo_total_mg_l</th>\n",
       "      <th>fosforo_total_mg_kg</th>\n",
       "      <th>fosfato_total</th>\n",
       "      <th>nitrato</th>\n",
       "      <th>silica</th>\n",
       "      <th>sulfeto</th>\n",
       "      <th>materia_organica</th>\n",
       "    </tr>\n",
       "  </thead>\n",
       "  <tbody>\n",
       "    <tr>\n",
       "      <th>166</th>\n",
       "      <td>1.0</td>\n",
       "      <td>2022-06-15 10:20:00</td>\n",
       "      <td>Regular</td>\n",
       "      <td>LRF3 - Meio Afótico</td>\n",
       "      <td>2022-06-15 10:15:00</td>\n",
       "      <td>2022-06-15 10:20:00</td>\n",
       "      <td>7.65</td>\n",
       "      <td>NaN</td>\n",
       "      <td>21</td>\n",
       "      <td>12.52</td>\n",
       "      <td>...</td>\n",
       "      <td>NaN</td>\n",
       "      <td>NaN</td>\n",
       "      <td>0.36</td>\n",
       "      <td>0.075</td>\n",
       "      <td>NaN</td>\n",
       "      <td>0.044</td>\n",
       "      <td>0.083</td>\n",
       "      <td>2.1</td>\n",
       "      <td>&lt;0.1</td>\n",
       "      <td>NaN</td>\n",
       "    </tr>\n",
       "    <tr>\n",
       "      <th>167</th>\n",
       "      <td>1.0</td>\n",
       "      <td>2023-07-10 12:48:00</td>\n",
       "      <td>Regular</td>\n",
       "      <td>LRF2 - Meio Afótico</td>\n",
       "      <td>2023-07-10 12:45:00</td>\n",
       "      <td>2023-07-10 12:48:00</td>\n",
       "      <td>7.41</td>\n",
       "      <td>NaN</td>\n",
       "      <td>21</td>\n",
       "      <td>10.7</td>\n",
       "      <td>...</td>\n",
       "      <td>NaN</td>\n",
       "      <td>NaN</td>\n",
       "      <td>0.38</td>\n",
       "      <td>&lt;0.016</td>\n",
       "      <td>NaN</td>\n",
       "      <td>&lt;0.016</td>\n",
       "      <td>0.44</td>\n",
       "      <td>4.7</td>\n",
       "      <td>&lt;0.1</td>\n",
       "      <td>NaN</td>\n",
       "    </tr>\n",
       "    <tr>\n",
       "      <th>168</th>\n",
       "      <td>1.0</td>\n",
       "      <td>2023-07-10 12:51:00</td>\n",
       "      <td>Regular</td>\n",
       "      <td>LRF2 - Fundo</td>\n",
       "      <td>2023-07-10 12:48:00</td>\n",
       "      <td>2023-07-10 12:51:00</td>\n",
       "      <td>7.36</td>\n",
       "      <td>NaN</td>\n",
       "      <td>21</td>\n",
       "      <td>10.7</td>\n",
       "      <td>...</td>\n",
       "      <td>NaN</td>\n",
       "      <td>NaN</td>\n",
       "      <td>0.55</td>\n",
       "      <td>&lt;0.016</td>\n",
       "      <td>NaN</td>\n",
       "      <td>&lt;0.016</td>\n",
       "      <td>0.39</td>\n",
       "      <td>5</td>\n",
       "      <td>&lt;0.1</td>\n",
       "      <td>NaN</td>\n",
       "    </tr>\n",
       "    <tr>\n",
       "      <th>169</th>\n",
       "      <td>1.0</td>\n",
       "      <td>2024-07-10 12:48:00</td>\n",
       "      <td>Regular</td>\n",
       "      <td>LRF2 - Meio Afótico</td>\n",
       "      <td>2024-07-10 12:45:00</td>\n",
       "      <td>2024-07-10 12:48:00</td>\n",
       "      <td>7.41</td>\n",
       "      <td>NaN</td>\n",
       "      <td>21</td>\n",
       "      <td>10.7</td>\n",
       "      <td>...</td>\n",
       "      <td>NaN</td>\n",
       "      <td>NaN</td>\n",
       "      <td>0.38</td>\n",
       "      <td>&lt;0.016</td>\n",
       "      <td>NaN</td>\n",
       "      <td>&lt;0.016</td>\n",
       "      <td>0.44</td>\n",
       "      <td>4.7</td>\n",
       "      <td>&lt;0.1</td>\n",
       "      <td>NaN</td>\n",
       "    </tr>\n",
       "    <tr>\n",
       "      <th>170</th>\n",
       "      <td>1.0</td>\n",
       "      <td>2024-07-10 12:51:00</td>\n",
       "      <td>Regular</td>\n",
       "      <td>LRF2 - Fundo</td>\n",
       "      <td>2024-07-10 12:48:00</td>\n",
       "      <td>2024-07-10 12:51:00</td>\n",
       "      <td>7.36</td>\n",
       "      <td>NaN</td>\n",
       "      <td>21</td>\n",
       "      <td>10.7</td>\n",
       "      <td>...</td>\n",
       "      <td>NaN</td>\n",
       "      <td>NaN</td>\n",
       "      <td>0.55</td>\n",
       "      <td>&lt;0.016</td>\n",
       "      <td>NaN</td>\n",
       "      <td>&lt;0.016</td>\n",
       "      <td>0.39</td>\n",
       "      <td>5</td>\n",
       "      <td>&lt;0.1</td>\n",
       "      <td>NaN</td>\n",
       "    </tr>\n",
       "  </tbody>\n",
       "</table>\n",
       "<p>5 rows × 25 columns</p>\n",
       "</div>"
      ],
      "text/plain": [
       "     id_estacao         data_medicao   coleta                ponto  \\\n",
       "166         1.0  2022-06-15 10:20:00  Regular  LRF3 - Meio Afótico   \n",
       "167         1.0  2023-07-10 12:48:00  Regular  LRF2 - Meio Afótico   \n",
       "168         1.0  2023-07-10 12:51:00  Regular         LRF2 - Fundo   \n",
       "169         1.0  2024-07-10 12:48:00  Regular  LRF2 - Meio Afótico   \n",
       "170         1.0  2024-07-10 12:51:00  Regular         LRF2 - Fundo   \n",
       "\n",
       "             data_inicio             data_fim    ph  temperatura_do_ar  \\\n",
       "166  2022-06-15 10:15:00  2022-06-15 10:20:00  7.65                NaN   \n",
       "167  2023-07-10 12:45:00  2023-07-10 12:48:00  7.41                NaN   \n",
       "168  2023-07-10 12:48:00  2023-07-10 12:51:00  7.36                NaN   \n",
       "169  2024-07-10 12:45:00  2024-07-10 12:48:00  7.41                NaN   \n",
       "170  2024-07-10 12:48:00  2024-07-10 12:51:00  7.36                NaN   \n",
       "\n",
       "    temperatura_da_agua salinidade  ... coliformes_totais escherichia_coli  \\\n",
       "166                  21      12.52  ...               NaN              NaN   \n",
       "167                  21       10.7  ...               NaN              NaN   \n",
       "168                  21       10.7  ...               NaN              NaN   \n",
       "169                  21       10.7  ...               NaN              NaN   \n",
       "170                  21       10.7  ...               NaN              NaN   \n",
       "\n",
       "     nitrogenio_amoniacal  fosforo_total_mg_l  fosforo_total_mg_kg  \\\n",
       "166                  0.36               0.075                  NaN   \n",
       "167                  0.38              <0.016                  NaN   \n",
       "168                  0.55              <0.016                  NaN   \n",
       "169                  0.38              <0.016                  NaN   \n",
       "170                  0.55              <0.016                  NaN   \n",
       "\n",
       "    fosfato_total nitrato silica sulfeto  materia_organica  \n",
       "166         0.044   0.083    2.1    <0.1               NaN  \n",
       "167        <0.016    0.44    4.7    <0.1               NaN  \n",
       "168        <0.016    0.39      5    <0.1               NaN  \n",
       "169        <0.016    0.44    4.7    <0.1               NaN  \n",
       "170        <0.016    0.39      5    <0.1               NaN  \n",
       "\n",
       "[5 rows x 25 columns]"
      ]
     },
     "execution_count": 14,
     "metadata": {},
     "output_type": "execute_result"
    }
   ],
   "source": [
    "saneamento_rio_aguas_regular = saneamento_rio_aguas_not_null[saneamento_rio_aguas_not_null['coleta'] == 'Regular']\n",
    "saneamento_rio_aguas_regular.head()"
   ]
  },
  {
   "cell_type": "code",
   "execution_count": 15,
   "metadata": {},
   "outputs": [
    {
     "data": {
      "text/html": [
       "<div>\n",
       "<style scoped>\n",
       "    .dataframe tbody tr th:only-of-type {\n",
       "        vertical-align: middle;\n",
       "    }\n",
       "\n",
       "    .dataframe tbody tr th {\n",
       "        vertical-align: top;\n",
       "    }\n",
       "\n",
       "    .dataframe thead th {\n",
       "        text-align: right;\n",
       "    }\n",
       "</style>\n",
       "<table border=\"1\" class=\"dataframe\">\n",
       "  <thead>\n",
       "    <tr style=\"text-align: right;\">\n",
       "      <th></th>\n",
       "      <th>id_estacao</th>\n",
       "      <th>data_medicao</th>\n",
       "      <th>coleta</th>\n",
       "      <th>ponto</th>\n",
       "      <th>data_inicio</th>\n",
       "      <th>data_fim</th>\n",
       "      <th>ph</th>\n",
       "      <th>temperatura_do_ar</th>\n",
       "      <th>temperatura_da_agua</th>\n",
       "      <th>salinidade</th>\n",
       "      <th>...</th>\n",
       "      <th>coliformes_totais</th>\n",
       "      <th>escherichia_coli</th>\n",
       "      <th>nitrogenio_amoniacal</th>\n",
       "      <th>fosforo_total_mg_l</th>\n",
       "      <th>fosforo_total_mg_kg</th>\n",
       "      <th>fosfato_total</th>\n",
       "      <th>nitrato</th>\n",
       "      <th>silica</th>\n",
       "      <th>sulfeto</th>\n",
       "      <th>materia_organica</th>\n",
       "    </tr>\n",
       "  </thead>\n",
       "  <tbody>\n",
       "    <tr>\n",
       "      <th>166</th>\n",
       "      <td>1.0</td>\n",
       "      <td>2022-06-15 10:20:00</td>\n",
       "      <td>Regular</td>\n",
       "      <td>LRF3 - Meio Afótico</td>\n",
       "      <td>2022-06-15 10:15:00</td>\n",
       "      <td>2022-06-15 10:20:00</td>\n",
       "      <td>7.65</td>\n",
       "      <td>NaN</td>\n",
       "      <td>21</td>\n",
       "      <td>12.52</td>\n",
       "      <td>...</td>\n",
       "      <td>NaN</td>\n",
       "      <td>NaN</td>\n",
       "      <td>0.36</td>\n",
       "      <td>0.075</td>\n",
       "      <td>NaN</td>\n",
       "      <td>0.044</td>\n",
       "      <td>0.083</td>\n",
       "      <td>2.1</td>\n",
       "      <td>&lt;0.1</td>\n",
       "      <td>NaN</td>\n",
       "    </tr>\n",
       "    <tr>\n",
       "      <th>167</th>\n",
       "      <td>1.0</td>\n",
       "      <td>2023-07-10 12:48:00</td>\n",
       "      <td>Regular</td>\n",
       "      <td>LRF2 - Meio Afótico</td>\n",
       "      <td>2023-07-10 12:45:00</td>\n",
       "      <td>2023-07-10 12:48:00</td>\n",
       "      <td>7.41</td>\n",
       "      <td>NaN</td>\n",
       "      <td>21</td>\n",
       "      <td>10.7</td>\n",
       "      <td>...</td>\n",
       "      <td>NaN</td>\n",
       "      <td>NaN</td>\n",
       "      <td>0.38</td>\n",
       "      <td>&lt;0.016</td>\n",
       "      <td>NaN</td>\n",
       "      <td>&lt;0.016</td>\n",
       "      <td>0.44</td>\n",
       "      <td>4.7</td>\n",
       "      <td>&lt;0.1</td>\n",
       "      <td>NaN</td>\n",
       "    </tr>\n",
       "    <tr>\n",
       "      <th>168</th>\n",
       "      <td>1.0</td>\n",
       "      <td>2023-07-10 12:51:00</td>\n",
       "      <td>Regular</td>\n",
       "      <td>LRF2 - Fundo</td>\n",
       "      <td>2023-07-10 12:48:00</td>\n",
       "      <td>2023-07-10 12:51:00</td>\n",
       "      <td>7.36</td>\n",
       "      <td>NaN</td>\n",
       "      <td>21</td>\n",
       "      <td>10.7</td>\n",
       "      <td>...</td>\n",
       "      <td>NaN</td>\n",
       "      <td>NaN</td>\n",
       "      <td>0.55</td>\n",
       "      <td>&lt;0.016</td>\n",
       "      <td>NaN</td>\n",
       "      <td>&lt;0.016</td>\n",
       "      <td>0.39</td>\n",
       "      <td>5</td>\n",
       "      <td>&lt;0.1</td>\n",
       "      <td>NaN</td>\n",
       "    </tr>\n",
       "    <tr>\n",
       "      <th>169</th>\n",
       "      <td>1.0</td>\n",
       "      <td>2024-07-10 12:48:00</td>\n",
       "      <td>Regular</td>\n",
       "      <td>LRF2 - Meio Afótico</td>\n",
       "      <td>2024-07-10 12:45:00</td>\n",
       "      <td>2024-07-10 12:48:00</td>\n",
       "      <td>7.41</td>\n",
       "      <td>NaN</td>\n",
       "      <td>21</td>\n",
       "      <td>10.7</td>\n",
       "      <td>...</td>\n",
       "      <td>NaN</td>\n",
       "      <td>NaN</td>\n",
       "      <td>0.38</td>\n",
       "      <td>&lt;0.016</td>\n",
       "      <td>NaN</td>\n",
       "      <td>&lt;0.016</td>\n",
       "      <td>0.44</td>\n",
       "      <td>4.7</td>\n",
       "      <td>&lt;0.1</td>\n",
       "      <td>NaN</td>\n",
       "    </tr>\n",
       "    <tr>\n",
       "      <th>170</th>\n",
       "      <td>1.0</td>\n",
       "      <td>2024-07-10 12:51:00</td>\n",
       "      <td>Regular</td>\n",
       "      <td>LRF2 - Fundo</td>\n",
       "      <td>2024-07-10 12:48:00</td>\n",
       "      <td>2024-07-10 12:51:00</td>\n",
       "      <td>7.36</td>\n",
       "      <td>NaN</td>\n",
       "      <td>21</td>\n",
       "      <td>10.7</td>\n",
       "      <td>...</td>\n",
       "      <td>NaN</td>\n",
       "      <td>NaN</td>\n",
       "      <td>0.55</td>\n",
       "      <td>&lt;0.016</td>\n",
       "      <td>NaN</td>\n",
       "      <td>&lt;0.016</td>\n",
       "      <td>0.39</td>\n",
       "      <td>5</td>\n",
       "      <td>&lt;0.1</td>\n",
       "      <td>NaN</td>\n",
       "    </tr>\n",
       "  </tbody>\n",
       "</table>\n",
       "<p>5 rows × 25 columns</p>\n",
       "</div>"
      ],
      "text/plain": [
       "     id_estacao         data_medicao   coleta                ponto  \\\n",
       "166         1.0  2022-06-15 10:20:00  Regular  LRF3 - Meio Afótico   \n",
       "167         1.0  2023-07-10 12:48:00  Regular  LRF2 - Meio Afótico   \n",
       "168         1.0  2023-07-10 12:51:00  Regular         LRF2 - Fundo   \n",
       "169         1.0  2024-07-10 12:48:00  Regular  LRF2 - Meio Afótico   \n",
       "170         1.0  2024-07-10 12:51:00  Regular         LRF2 - Fundo   \n",
       "\n",
       "             data_inicio             data_fim    ph  temperatura_do_ar  \\\n",
       "166  2022-06-15 10:15:00  2022-06-15 10:20:00  7.65                NaN   \n",
       "167  2023-07-10 12:45:00  2023-07-10 12:48:00  7.41                NaN   \n",
       "168  2023-07-10 12:48:00  2023-07-10 12:51:00  7.36                NaN   \n",
       "169  2024-07-10 12:45:00  2024-07-10 12:48:00  7.41                NaN   \n",
       "170  2024-07-10 12:48:00  2024-07-10 12:51:00  7.36                NaN   \n",
       "\n",
       "    temperatura_da_agua salinidade  ... coliformes_totais escherichia_coli  \\\n",
       "166                  21      12.52  ...               NaN              NaN   \n",
       "167                  21       10.7  ...               NaN              NaN   \n",
       "168                  21       10.7  ...               NaN              NaN   \n",
       "169                  21       10.7  ...               NaN              NaN   \n",
       "170                  21       10.7  ...               NaN              NaN   \n",
       "\n",
       "     nitrogenio_amoniacal  fosforo_total_mg_l  fosforo_total_mg_kg  \\\n",
       "166                  0.36               0.075                  NaN   \n",
       "167                  0.38              <0.016                  NaN   \n",
       "168                  0.55              <0.016                  NaN   \n",
       "169                  0.38              <0.016                  NaN   \n",
       "170                  0.55              <0.016                  NaN   \n",
       "\n",
       "    fosfato_total nitrato silica sulfeto  materia_organica  \n",
       "166         0.044   0.083    2.1    <0.1               NaN  \n",
       "167        <0.016    0.44    4.7    <0.1               NaN  \n",
       "168        <0.016    0.39      5    <0.1               NaN  \n",
       "169        <0.016    0.44    4.7    <0.1               NaN  \n",
       "170        <0.016    0.39      5    <0.1               NaN  \n",
       "\n",
       "[5 rows x 25 columns]"
      ]
     },
     "execution_count": 15,
     "metadata": {},
     "output_type": "execute_result"
    }
   ],
   "source": [
    "saneamento_rio_aguas_regular.head()"
   ]
  },
  {
   "cell_type": "code",
   "execution_count": 16,
   "metadata": {},
   "outputs": [
    {
     "name": "stdout",
     "output_type": "stream",
     "text": [
      "<class 'pandas.core.frame.DataFrame'>\n",
      "Int64Index: 5396 entries, 166 to 6732\n",
      "Data columns (total 25 columns):\n",
      " #   Column                  Non-Null Count  Dtype  \n",
      "---  ------                  --------------  -----  \n",
      " 0   id_estacao              5396 non-null   float64\n",
      " 1   data_medicao            5298 non-null   object \n",
      " 2   coleta                  5396 non-null   object \n",
      " 3   ponto                   5396 non-null   object \n",
      " 4   data_inicio             5396 non-null   object \n",
      " 5   data_fim                5298 non-null   object \n",
      " 6   ph                      5396 non-null   float64\n",
      " 7   temperatura_do_ar       1621 non-null   float64\n",
      " 8   temperatura_da_agua     5396 non-null   object \n",
      " 9   salinidade              5396 non-null   object \n",
      " 10  oxigenio_dissolvido     5396 non-null   object \n",
      " 11  turbidez                5396 non-null   object \n",
      " 12  disco_de_secchi         1621 non-null   float64\n",
      " 13  profundidade_total      1621 non-null   float64\n",
      " 14  profundidade_de_coleta  5396 non-null   float64\n",
      " 15  coliformes_totais       1621 non-null   object \n",
      " 16  escherichia_coli        1621 non-null   object \n",
      " 17  nitrogenio_amoniacal    5376 non-null   object \n",
      " 18  fosforo_total_mg_l      5276 non-null   object \n",
      " 19  fosforo_total_mg_kg     0 non-null      float64\n",
      " 20  fosfato_total           5276 non-null   object \n",
      " 21  nitrato                 5336 non-null   object \n",
      " 22  silica                  5396 non-null   object \n",
      " 23  sulfeto                 5394 non-null   object \n",
      " 24  materia_organica        0 non-null      float64\n",
      "dtypes: float64(8), object(17)\n",
      "memory usage: 1.1+ MB\n"
     ]
    }
   ],
   "source": [
    "saneamento_rio_aguas_regular.info()"
   ]
  },
  {
   "cell_type": "code",
   "execution_count": 17,
   "metadata": {},
   "outputs": [],
   "source": [
    "import numpy as np\n",
    "\n",
    "def q_ph(ph):\n",
    "    return 100 - 40 * abs(ph - 7)\n",
    "\n",
    "def q_od(od):\n",
    "    a = 93.70\n",
    "    b = -0.0091\n",
    "    return a * np.exp(b * od)\n",
    "\n",
    "def q_coliformes(coliformes):\n",
    "    return max(100 - 5 * np.log10(coliformes + 1), 0)\n",
    "\n",
    "def q_nitrogenio_total(nitrogenio_total):\n",
    "    return max(100 * np.exp(-0.1 * nitrogenio_total), 0)\n",
    "\n",
    "def q_fosforo_total(fosforo_total):\n",
    "    return max(100 * np.exp(-0.5 * fosforo_total), 0)\n",
    "\n",
    "def q_turbidez(turbidez):\n",
    "    return max(100 - turbidez, 0)\n",
    "\n",
    "def q_temperatura(temperatura):\n",
    "    a_temp = 106.43\n",
    "    b_temp = 10\n",
    "    c_temp = 5.85\n",
    "    return a_temp * np.exp(-((temperatura - b_temp)**2) / (2 * c_temp**2))\n",
    "\n",
    "# Função para calcular o IQA\n",
    "def calcular_iqa(linha):\n",
    "    pesos = {\n",
    "        \"od\": 0.17,\n",
    "        \"coliformes\": 0.15,\n",
    "        \"ph\": 0.12,\n",
    "        \"temperatura\": 0.10,\n",
    "        \"nitrogenio_total\": 0.10,\n",
    "        \"fosforo_total\": 0.10,\n",
    "        \"turbidez\": 0.08,\n",
    "    }\n",
    "    \n",
    "    q_ph_val = q_ph(linha['ph'])\n",
    "    q_temp_val = q_temperatura(float(linha['temperatura_da_agua']))\n",
    "    q_od_val = q_od(float(linha['oxigenio_dissolvido']))\n",
    "    q_coliformes_val = q_coliformes(float(linha['coliformes_totais']))\n",
    "    q_nitrogenio_total_val = q_nitrogenio_total(float(linha['nitrogenio_amoniacal']))\n",
    "    q_fosforo_total_val = q_fosforo_total(float(linha['fosforo_total_mg_l']))\n",
    "    q_turbidez_val = q_turbidez(float(linha['turbidez']))\n",
    "    \n",
    "    iqa = (q_ph_val ** pesos[\"ph\"]) * \\\n",
    "          (q_od_val ** pesos[\"od\"]) * \\\n",
    "          (q_coliformes_val ** pesos[\"coliformes\"]) * \\\n",
    "          (q_temp_val ** pesos[\"temperatura\"]) * \\\n",
    "          (q_nitrogenio_total_val ** pesos[\"nitrogenio_total\"]) * \\\n",
    "          (q_fosforo_total_val ** pesos[\"fosforo_total\"]) * \\\n",
    "          (q_turbidez_val ** pesos[\"turbidez\"])\n",
    "    \n",
    "    return iqa ** (1 / sum(pesos.values()))\n"
   ]
  },
  {
   "cell_type": "code",
   "execution_count": 18,
   "metadata": {},
   "outputs": [],
   "source": [
    "colunas_iqa = [\n",
    "    \"data_medicao\",\n",
    "    \"ph\",\n",
    "    \"temperatura_da_agua\",\n",
    "    \"oxigenio_dissolvido\",\n",
    "    \"coliformes_totais\",\n",
    "    \"nitrogenio_amoniacal\",\n",
    "    \"fosforo_total_mg_l\",\n",
    "    \"turbidez\"\n",
    "]\n",
    "\n",
    "saneamento_iqa = saneamento_rio_aguas_regular[colunas_iqa].copy()"
   ]
  },
  {
   "cell_type": "code",
   "execution_count": 19,
   "metadata": {},
   "outputs": [
    {
     "data": {
      "text/html": [
       "<div>\n",
       "<style scoped>\n",
       "    .dataframe tbody tr th:only-of-type {\n",
       "        vertical-align: middle;\n",
       "    }\n",
       "\n",
       "    .dataframe tbody tr th {\n",
       "        vertical-align: top;\n",
       "    }\n",
       "\n",
       "    .dataframe thead th {\n",
       "        text-align: right;\n",
       "    }\n",
       "</style>\n",
       "<table border=\"1\" class=\"dataframe\">\n",
       "  <thead>\n",
       "    <tr style=\"text-align: right;\">\n",
       "      <th></th>\n",
       "      <th>data_medicao</th>\n",
       "      <th>ph</th>\n",
       "      <th>temperatura_da_agua</th>\n",
       "      <th>oxigenio_dissolvido</th>\n",
       "      <th>coliformes_totais</th>\n",
       "      <th>nitrogenio_amoniacal</th>\n",
       "      <th>fosforo_total_mg_l</th>\n",
       "      <th>turbidez</th>\n",
       "    </tr>\n",
       "  </thead>\n",
       "  <tbody>\n",
       "    <tr>\n",
       "      <th>166</th>\n",
       "      <td>2022-06-15 10:20:00</td>\n",
       "      <td>7.65</td>\n",
       "      <td>21</td>\n",
       "      <td>5.51</td>\n",
       "      <td>NaN</td>\n",
       "      <td>0.36</td>\n",
       "      <td>0.075</td>\n",
       "      <td>2.16</td>\n",
       "    </tr>\n",
       "    <tr>\n",
       "      <th>167</th>\n",
       "      <td>2023-07-10 12:48:00</td>\n",
       "      <td>7.41</td>\n",
       "      <td>21</td>\n",
       "      <td>6.31</td>\n",
       "      <td>NaN</td>\n",
       "      <td>0.38</td>\n",
       "      <td>&lt;0.016</td>\n",
       "      <td>&lt;1.5</td>\n",
       "    </tr>\n",
       "    <tr>\n",
       "      <th>168</th>\n",
       "      <td>2023-07-10 12:51:00</td>\n",
       "      <td>7.36</td>\n",
       "      <td>21</td>\n",
       "      <td>6.22</td>\n",
       "      <td>NaN</td>\n",
       "      <td>0.55</td>\n",
       "      <td>&lt;0.016</td>\n",
       "      <td>&lt;1.5</td>\n",
       "    </tr>\n",
       "    <tr>\n",
       "      <th>169</th>\n",
       "      <td>2024-07-10 12:48:00</td>\n",
       "      <td>7.41</td>\n",
       "      <td>21</td>\n",
       "      <td>6.31</td>\n",
       "      <td>NaN</td>\n",
       "      <td>0.38</td>\n",
       "      <td>&lt;0.016</td>\n",
       "      <td>&lt;1.5</td>\n",
       "    </tr>\n",
       "    <tr>\n",
       "      <th>170</th>\n",
       "      <td>2024-07-10 12:51:00</td>\n",
       "      <td>7.36</td>\n",
       "      <td>21</td>\n",
       "      <td>6.22</td>\n",
       "      <td>NaN</td>\n",
       "      <td>0.55</td>\n",
       "      <td>&lt;0.016</td>\n",
       "      <td>&lt;1.5</td>\n",
       "    </tr>\n",
       "    <tr>\n",
       "      <th>...</th>\n",
       "      <td>...</td>\n",
       "      <td>...</td>\n",
       "      <td>...</td>\n",
       "      <td>...</td>\n",
       "      <td>...</td>\n",
       "      <td>...</td>\n",
       "      <td>...</td>\n",
       "      <td>...</td>\n",
       "    </tr>\n",
       "    <tr>\n",
       "      <th>6728</th>\n",
       "      <td>2022-11-30 14:17:00</td>\n",
       "      <td>8.34</td>\n",
       "      <td>28.46</td>\n",
       "      <td>5.85</td>\n",
       "      <td>NaN</td>\n",
       "      <td>0.07</td>\n",
       "      <td>0.058</td>\n",
       "      <td>2.37</td>\n",
       "    </tr>\n",
       "    <tr>\n",
       "      <th>6729</th>\n",
       "      <td>2023-01-16 13:39:00</td>\n",
       "      <td>7.25</td>\n",
       "      <td>28.8.</td>\n",
       "      <td>0.8</td>\n",
       "      <td>NaN</td>\n",
       "      <td>0.51</td>\n",
       "      <td>0.05</td>\n",
       "      <td>2.91</td>\n",
       "    </tr>\n",
       "    <tr>\n",
       "      <th>6730</th>\n",
       "      <td>2024-01-16 13:39:00</td>\n",
       "      <td>7.25</td>\n",
       "      <td>28.8.</td>\n",
       "      <td>0.8</td>\n",
       "      <td>NaN</td>\n",
       "      <td>0.51</td>\n",
       "      <td>0.05</td>\n",
       "      <td>2.91</td>\n",
       "    </tr>\n",
       "    <tr>\n",
       "      <th>6731</th>\n",
       "      <td>2024-01-25 14:35:00</td>\n",
       "      <td>8.16</td>\n",
       "      <td>29.61</td>\n",
       "      <td>5.66</td>\n",
       "      <td>NaN</td>\n",
       "      <td>0.07</td>\n",
       "      <td>0.05</td>\n",
       "      <td>2.17</td>\n",
       "    </tr>\n",
       "    <tr>\n",
       "      <th>6732</th>\n",
       "      <td>2023-01-25 14:35:00</td>\n",
       "      <td>8.16</td>\n",
       "      <td>29.61</td>\n",
       "      <td>5.66</td>\n",
       "      <td>NaN</td>\n",
       "      <td>0.07</td>\n",
       "      <td>0.05</td>\n",
       "      <td>2.17</td>\n",
       "    </tr>\n",
       "  </tbody>\n",
       "</table>\n",
       "<p>5396 rows × 8 columns</p>\n",
       "</div>"
      ],
      "text/plain": [
       "             data_medicao    ph temperatura_da_agua oxigenio_dissolvido  \\\n",
       "166   2022-06-15 10:20:00  7.65                  21                5.51   \n",
       "167   2023-07-10 12:48:00  7.41                  21                6.31   \n",
       "168   2023-07-10 12:51:00  7.36                  21                6.22   \n",
       "169   2024-07-10 12:48:00  7.41                  21                6.31   \n",
       "170   2024-07-10 12:51:00  7.36                  21                6.22   \n",
       "...                   ...   ...                 ...                 ...   \n",
       "6728  2022-11-30 14:17:00  8.34               28.46                5.85   \n",
       "6729  2023-01-16 13:39:00  7.25               28.8.                 0.8   \n",
       "6730  2024-01-16 13:39:00  7.25               28.8.                 0.8   \n",
       "6731  2024-01-25 14:35:00  8.16               29.61                5.66   \n",
       "6732  2023-01-25 14:35:00  8.16               29.61                5.66   \n",
       "\n",
       "     coliformes_totais nitrogenio_amoniacal fosforo_total_mg_l turbidez  \n",
       "166                NaN                 0.36              0.075     2.16  \n",
       "167                NaN                 0.38             <0.016     <1.5  \n",
       "168                NaN                 0.55             <0.016     <1.5  \n",
       "169                NaN                 0.38             <0.016     <1.5  \n",
       "170                NaN                 0.55             <0.016     <1.5  \n",
       "...                ...                  ...                ...      ...  \n",
       "6728               NaN                 0.07              0.058     2.37  \n",
       "6729               NaN                 0.51               0.05     2.91  \n",
       "6730               NaN                 0.51               0.05     2.91  \n",
       "6731               NaN                 0.07               0.05     2.17  \n",
       "6732               NaN                 0.07               0.05     2.17  \n",
       "\n",
       "[5396 rows x 8 columns]"
      ]
     },
     "execution_count": 19,
     "metadata": {},
     "output_type": "execute_result"
    }
   ],
   "source": [
    "saneamento_iqa"
   ]
  },
  {
   "cell_type": "code",
   "execution_count": 20,
   "metadata": {},
   "outputs": [
    {
     "name": "stdout",
     "output_type": "stream",
     "text": [
      "<class 'pandas.core.frame.DataFrame'>\n",
      "Int64Index: 5396 entries, 166 to 6732\n",
      "Data columns (total 8 columns):\n",
      " #   Column                Non-Null Count  Dtype  \n",
      "---  ------                --------------  -----  \n",
      " 0   data_medicao          5298 non-null   object \n",
      " 1   ph                    5396 non-null   float64\n",
      " 2   temperatura_da_agua   5396 non-null   object \n",
      " 3   oxigenio_dissolvido   5396 non-null   object \n",
      " 4   coliformes_totais     1621 non-null   object \n",
      " 5   nitrogenio_amoniacal  5376 non-null   object \n",
      " 6   fosforo_total_mg_l    5276 non-null   object \n",
      " 7   turbidez              5396 non-null   object \n",
      "dtypes: float64(1), object(7)\n",
      "memory usage: 379.4+ KB\n"
     ]
    }
   ],
   "source": [
    "saneamento_iqa.info()"
   ]
  },
  {
   "cell_type": "code",
   "execution_count": 21,
   "metadata": {},
   "outputs": [
    {
     "name": "stderr",
     "output_type": "stream",
     "text": [
      "/tmp/ipykernel_4691/984970703.py:7: SettingWithCopyWarning: \n",
      "A value is trying to be set on a copy of a slice from a DataFrame\n",
      "\n",
      "See the caveats in the documentation: https://pandas.pydata.org/pandas-docs/stable/user_guide/indexing.html#returning-a-view-versus-a-copy\n",
      "  saneamento_iqa.sort_index(inplace=True)\n",
      "/tmp/ipykernel_4691/984970703.py:13: SettingWithCopyWarning: \n",
      "A value is trying to be set on a copy of a slice from a DataFrame.\n",
      "Try using .loc[row_indexer,col_indexer] = value instead\n",
      "\n",
      "See the caveats in the documentation: https://pandas.pydata.org/pandas-docs/stable/user_guide/indexing.html#returning-a-view-versus-a-copy\n",
      "  saneamento_iqa[coluna] = pd.to_numeric(saneamento_iqa[coluna], errors='coerce')\n"
     ]
    }
   ],
   "source": [
    "saneamento_iqa['data_medicao'] = pd.to_datetime(saneamento_iqa['data_medicao'], errors='coerce')\n",
    "\n",
    "saneamento_iqa = saneamento_iqa.dropna(subset=['data_medicao'])\n",
    "\n",
    "saneamento_iqa.set_index('data_medicao', inplace=True)\n",
    "\n",
    "saneamento_iqa.sort_index(inplace=True)\n",
    "\n",
    "colunas_numericas = ['temperatura_da_agua', 'oxigenio_dissolvido', 'coliformes_totais',\n",
    "                     'nitrogenio_amoniacal', 'fosforo_total_mg_l', 'turbidez']\n",
    "\n",
    "for coluna in colunas_numericas:\n",
    "    saneamento_iqa[coluna] = pd.to_numeric(saneamento_iqa[coluna], errors='coerce')\n",
    "\n",
    "saneamento_iqa = saneamento_iqa.interpolate(method='time')\n",
    "\n",
    "saneamento_iqa.fillna(saneamento_iqa.mean(), inplace=True)\n"
   ]
  },
  {
   "cell_type": "code",
   "execution_count": 22,
   "metadata": {},
   "outputs": [
    {
     "data": {
      "text/html": [
       "<div>\n",
       "<style scoped>\n",
       "    .dataframe tbody tr th:only-of-type {\n",
       "        vertical-align: middle;\n",
       "    }\n",
       "\n",
       "    .dataframe tbody tr th {\n",
       "        vertical-align: top;\n",
       "    }\n",
       "\n",
       "    .dataframe thead th {\n",
       "        text-align: right;\n",
       "    }\n",
       "</style>\n",
       "<table border=\"1\" class=\"dataframe\">\n",
       "  <thead>\n",
       "    <tr style=\"text-align: right;\">\n",
       "      <th></th>\n",
       "      <th>ph</th>\n",
       "      <th>temperatura_da_agua</th>\n",
       "      <th>oxigenio_dissolvido</th>\n",
       "      <th>coliformes_totais</th>\n",
       "      <th>nitrogenio_amoniacal</th>\n",
       "      <th>fosforo_total_mg_l</th>\n",
       "      <th>turbidez</th>\n",
       "    </tr>\n",
       "    <tr>\n",
       "      <th>data_medicao</th>\n",
       "      <th></th>\n",
       "      <th></th>\n",
       "      <th></th>\n",
       "      <th></th>\n",
       "      <th></th>\n",
       "      <th></th>\n",
       "      <th></th>\n",
       "    </tr>\n",
       "  </thead>\n",
       "  <tbody>\n",
       "    <tr>\n",
       "      <th>2022-01-03 09:53:00</th>\n",
       "      <td>6.85</td>\n",
       "      <td>28.4</td>\n",
       "      <td>8.65</td>\n",
       "      <td>2202.760835</td>\n",
       "      <td>0.43</td>\n",
       "      <td>0.042</td>\n",
       "      <td>2.75</td>\n",
       "    </tr>\n",
       "    <tr>\n",
       "      <th>2022-01-03 09:56:00</th>\n",
       "      <td>7.72</td>\n",
       "      <td>28.4</td>\n",
       "      <td>8.70</td>\n",
       "      <td>2202.760835</td>\n",
       "      <td>0.44</td>\n",
       "      <td>0.047</td>\n",
       "      <td>2.81</td>\n",
       "    </tr>\n",
       "    <tr>\n",
       "      <th>2022-01-03 09:59:00</th>\n",
       "      <td>7.23</td>\n",
       "      <td>28.4</td>\n",
       "      <td>9.04</td>\n",
       "      <td>2202.760835</td>\n",
       "      <td>0.37</td>\n",
       "      <td>0.052</td>\n",
       "      <td>2.58</td>\n",
       "    </tr>\n",
       "    <tr>\n",
       "      <th>2022-01-03 10:02:00</th>\n",
       "      <td>7.31</td>\n",
       "      <td>28.3</td>\n",
       "      <td>8.80</td>\n",
       "      <td>2202.760835</td>\n",
       "      <td>0.35</td>\n",
       "      <td>0.072</td>\n",
       "      <td>3.49</td>\n",
       "    </tr>\n",
       "    <tr>\n",
       "      <th>2022-01-03 10:27:00</th>\n",
       "      <td>7.52</td>\n",
       "      <td>28.8</td>\n",
       "      <td>8.53</td>\n",
       "      <td>155.000000</td>\n",
       "      <td>0.33</td>\n",
       "      <td>0.047</td>\n",
       "      <td>2.60</td>\n",
       "    </tr>\n",
       "  </tbody>\n",
       "</table>\n",
       "</div>"
      ],
      "text/plain": [
       "                       ph  temperatura_da_agua  oxigenio_dissolvido  \\\n",
       "data_medicao                                                          \n",
       "2022-01-03 09:53:00  6.85                 28.4                 8.65   \n",
       "2022-01-03 09:56:00  7.72                 28.4                 8.70   \n",
       "2022-01-03 09:59:00  7.23                 28.4                 9.04   \n",
       "2022-01-03 10:02:00  7.31                 28.3                 8.80   \n",
       "2022-01-03 10:27:00  7.52                 28.8                 8.53   \n",
       "\n",
       "                     coliformes_totais  nitrogenio_amoniacal  \\\n",
       "data_medicao                                                   \n",
       "2022-01-03 09:53:00        2202.760835                  0.43   \n",
       "2022-01-03 09:56:00        2202.760835                  0.44   \n",
       "2022-01-03 09:59:00        2202.760835                  0.37   \n",
       "2022-01-03 10:02:00        2202.760835                  0.35   \n",
       "2022-01-03 10:27:00         155.000000                  0.33   \n",
       "\n",
       "                     fosforo_total_mg_l  turbidez  \n",
       "data_medicao                                       \n",
       "2022-01-03 09:53:00               0.042      2.75  \n",
       "2022-01-03 09:56:00               0.047      2.81  \n",
       "2022-01-03 09:59:00               0.052      2.58  \n",
       "2022-01-03 10:02:00               0.072      3.49  \n",
       "2022-01-03 10:27:00               0.047      2.60  "
      ]
     },
     "execution_count": 22,
     "metadata": {},
     "output_type": "execute_result"
    }
   ],
   "source": [
    "saneamento_iqa.head()"
   ]
  },
  {
   "cell_type": "code",
   "execution_count": 23,
   "metadata": {},
   "outputs": [
    {
     "name": "stderr",
     "output_type": "stream",
     "text": [
      "/tmp/ipykernel_4691/2954810775.py:49: RuntimeWarning: invalid value encountered in scalar power\n",
      "  iqa = (q_ph_val ** pesos[\"ph\"]) * \\\n"
     ]
    }
   ],
   "source": [
    "saneamento_iqa['IQA'] = saneamento_iqa.apply(calcular_iqa, axis=1)"
   ]
  },
  {
   "cell_type": "code",
   "execution_count": 27,
   "metadata": {},
   "outputs": [
    {
     "data": {
      "application/vnd.plotly.v1+json": {
       "config": {
        "plotlyServerURL": "https://plot.ly"
       },
       "data": [
        {
         "hovertemplate": "data_medicao=%{x}<br>Índice de Qualidade da Água (IQA)=%{y}<extra></extra>",
         "legendgroup": "",
         "line": {
          "color": "#636efa",
          "dash": "solid"
         },
         "marker": {
          "symbol": "circle"
         },
         "mode": "lines",
         "name": "",
         "orientation": "v",
         "showlegend": false,
         "type": "scatter",
         "x": [
          "2022-01-03T00:00:00",
          "2022-01-05T00:00:00",
          "2022-01-10T00:00:00",
          "2022-01-12T00:00:00",
          "2022-01-17T00:00:00",
          "2022-01-19T00:00:00",
          "2022-01-24T00:00:00",
          "2022-01-26T00:00:00",
          "2022-01-31T00:00:00",
          "2022-02-02T00:00:00",
          "2022-02-07T00:00:00",
          "2022-02-09T00:00:00",
          "2022-02-14T00:00:00",
          "2022-02-16T00:00:00",
          "2022-02-21T00:00:00",
          "2022-02-23T00:00:00",
          "2022-03-03T00:00:00",
          "2022-03-07T00:00:00",
          "2022-03-09T00:00:00",
          "2022-03-14T00:00:00",
          "2022-03-16T00:00:00",
          "2022-03-21T00:00:00",
          "2022-03-23T00:00:00",
          "2022-03-28T00:00:00",
          "2022-04-04T00:00:00",
          "2022-04-06T00:00:00",
          "2022-04-11T00:00:00",
          "2022-04-13T00:00:00",
          "2022-04-18T00:00:00",
          "2022-04-20T00:00:00",
          "2022-04-25T00:00:00",
          "2022-04-27T00:00:00",
          "2022-05-02T00:00:00",
          "2022-05-04T00:00:00",
          "2022-05-09T00:00:00",
          "2022-05-11T00:00:00",
          "2022-05-16T00:00:00",
          "2022-05-18T00:00:00",
          "2022-05-23T00:00:00",
          "2022-05-25T00:00:00",
          "2022-06-01T00:00:00",
          "2022-06-06T00:00:00",
          "2022-06-08T00:00:00",
          "2022-06-13T00:00:00",
          "2022-06-15T00:00:00",
          "2022-06-20T00:00:00",
          "2022-06-22T00:00:00",
          "2022-06-27T00:00:00",
          "2022-07-04T00:00:00",
          "2022-07-06T00:00:00",
          "2022-07-11T00:00:00",
          "2022-07-13T00:00:00",
          "2022-07-18T00:00:00",
          "2022-07-20T00:00:00",
          "2022-07-25T00:00:00",
          "2022-07-27T00:00:00",
          "2022-08-01T00:00:00",
          "2022-08-03T00:00:00",
          "2022-08-08T00:00:00",
          "2022-08-15T00:00:00",
          "2022-08-17T00:00:00",
          "2022-08-22T00:00:00",
          "2022-08-29T00:00:00",
          "2022-08-31T00:00:00",
          "2022-09-05T00:00:00",
          "2022-09-12T00:00:00",
          "2022-09-14T00:00:00",
          "2022-09-19T00:00:00",
          "2022-09-21T00:00:00",
          "2022-09-26T00:00:00",
          "2022-10-03T00:00:00",
          "2022-10-05T00:00:00",
          "2022-10-10T00:00:00",
          "2022-10-17T00:00:00",
          "2022-10-19T00:00:00",
          "2022-10-24T00:00:00",
          "2022-10-26T00:00:00",
          "2022-10-31T00:00:00",
          "2022-11-07T00:00:00",
          "2022-11-09T00:00:00",
          "2022-11-14T00:00:00",
          "2022-11-16T00:00:00",
          "2022-11-21T00:00:00",
          "2022-11-23T00:00:00",
          "2022-11-28T00:00:00",
          "2022-11-30T00:00:00",
          "2022-12-05T00:00:00",
          "2022-12-07T00:00:00",
          "2022-12-12T00:00:00",
          "2022-12-14T00:00:00",
          "2022-12-19T00:00:00",
          "2022-12-21T00:00:00",
          "2022-12-26T00:00:00",
          "2022-12-28T00:00:00",
          "2023-01-02T00:00:00",
          "2023-01-04T00:00:00",
          "2023-01-09T00:00:00",
          "2023-01-11T00:00:00",
          "2023-01-16T00:00:00",
          "2023-01-18T00:00:00",
          "2023-01-23T00:00:00",
          "2023-01-25T00:00:00",
          "2023-02-01T00:00:00",
          "2023-02-06T00:00:00",
          "2023-02-08T00:00:00",
          "2023-02-13T00:00:00",
          "2023-02-15T00:00:00",
          "2023-02-23T00:00:00",
          "2023-02-27T00:00:00",
          "2023-03-01T00:00:00",
          "2023-03-06T00:00:00",
          "2023-03-08T00:00:00",
          "2023-03-13T00:00:00",
          "2023-03-15T00:00:00",
          "2023-03-20T00:00:00",
          "2023-03-22T00:00:00",
          "2023-03-27T00:00:00",
          "2023-04-03T00:00:00",
          "2023-04-05T00:00:00",
          "2023-04-10T00:00:00",
          "2023-04-12T00:00:00",
          "2023-04-17T00:00:00",
          "2023-04-19T00:00:00",
          "2023-04-24T00:00:00",
          "2023-04-26T00:00:00",
          "2023-05-03T00:00:00",
          "2023-05-08T00:00:00",
          "2023-05-10T00:00:00",
          "2023-05-15T00:00:00",
          "2023-05-17T00:00:00",
          "2023-05-22T00:00:00",
          "2023-05-24T00:00:00",
          "2023-05-29T00:00:00",
          "2023-06-05T00:00:00",
          "2023-06-07T00:00:00",
          "2023-06-12T00:00:00",
          "2023-06-14T00:00:00",
          "2023-06-19T00:00:00",
          "2023-06-21T00:00:00",
          "2023-06-26T00:00:00",
          "2023-06-28T00:00:00",
          "2023-07-03T00:00:00",
          "2023-07-05T00:00:00",
          "2023-07-10T00:00:00",
          "2023-07-12T00:00:00",
          "2023-07-17T00:00:00",
          "2023-07-19T00:00:00",
          "2023-07-24T00:00:00",
          "2023-07-26T00:00:00",
          "2023-08-02T00:00:00",
          "2023-08-07T00:00:00",
          "2023-08-09T00:00:00",
          "2023-08-15T00:00:00",
          "2023-08-17T00:00:00",
          "2023-08-21T00:00:00",
          "2023-08-23T00:00:00",
          "2023-08-28T00:00:00",
          "2023-08-30T00:00:00",
          "2023-09-04T00:00:00",
          "2023-09-06T00:00:00",
          "2023-09-11T00:00:00",
          "2023-09-13T00:00:00",
          "2023-09-18T00:00:00",
          "2023-09-29T00:00:00",
          "2023-10-02T00:00:00",
          "2023-10-04T00:00:00",
          "2023-10-09T00:00:00",
          "2023-10-11T00:00:00",
          "2023-10-16T00:00:00",
          "2023-10-18T00:00:00",
          "2023-10-23T00:00:00",
          "2023-10-25T00:00:00",
          "2023-10-30T00:00:00",
          "2023-11-01T00:00:00",
          "2023-11-06T00:00:00",
          "2023-11-08T00:00:00",
          "2023-11-23T00:00:00",
          "2023-11-27T00:00:00",
          "2023-12-04T00:00:00",
          "2023-12-06T00:00:00",
          "2024-01-02T00:00:00",
          "2024-01-04T00:00:00",
          "2024-01-09T00:00:00",
          "2024-01-11T00:00:00",
          "2024-01-16T00:00:00",
          "2024-01-18T00:00:00",
          "2024-01-23T00:00:00",
          "2024-01-25T00:00:00",
          "2024-02-01T00:00:00",
          "2024-02-06T00:00:00",
          "2024-02-08T00:00:00",
          "2024-02-13T00:00:00",
          "2024-02-15T00:00:00",
          "2024-02-23T00:00:00",
          "2024-02-27T00:00:00",
          "2024-03-01T00:00:00",
          "2024-03-06T00:00:00",
          "2024-03-08T00:00:00",
          "2024-03-13T00:00:00",
          "2024-03-15T00:00:00",
          "2024-03-20T00:00:00",
          "2024-03-22T00:00:00",
          "2024-03-27T00:00:00",
          "2024-04-03T00:00:00",
          "2024-04-05T00:00:00",
          "2024-04-10T00:00:00",
          "2024-04-12T00:00:00",
          "2024-04-17T00:00:00",
          "2024-04-19T00:00:00",
          "2024-04-24T00:00:00",
          "2024-04-26T00:00:00",
          "2024-05-03T00:00:00",
          "2024-05-08T00:00:00",
          "2024-05-10T00:00:00",
          "2024-05-15T00:00:00",
          "2024-05-17T00:00:00",
          "2024-05-22T00:00:00",
          "2024-05-24T00:00:00",
          "2024-05-29T00:00:00",
          "2024-06-05T00:00:00",
          "2024-06-07T00:00:00",
          "2024-06-12T00:00:00",
          "2024-06-14T00:00:00",
          "2024-06-19T00:00:00",
          "2024-06-21T00:00:00",
          "2024-06-26T00:00:00",
          "2024-06-28T00:00:00",
          "2024-07-03T00:00:00",
          "2024-07-05T00:00:00",
          "2024-07-10T00:00:00",
          "2024-07-12T00:00:00",
          "2024-07-17T00:00:00",
          "2024-07-19T00:00:00",
          "2024-07-24T00:00:00",
          "2024-07-26T00:00:00",
          "2024-08-02T00:00:00",
          "2024-08-07T00:00:00",
          "2024-08-09T00:00:00",
          "2024-08-15T00:00:00",
          "2024-08-17T00:00:00",
          "2024-08-21T00:00:00",
          "2024-08-23T00:00:00",
          "2024-08-28T00:00:00",
          "2024-08-30T00:00:00",
          "2024-09-04T00:00:00",
          "2024-09-06T00:00:00",
          "2024-09-11T00:00:00",
          "2024-09-13T00:00:00",
          "2024-09-18T00:00:00",
          "2024-09-29T00:00:00",
          "2024-10-02T00:00:00",
          "2024-10-04T00:00:00",
          "2024-10-09T00:00:00",
          "2024-10-11T00:00:00",
          "2024-10-16T00:00:00",
          "2024-10-18T00:00:00",
          "2024-10-23T00:00:00",
          "2024-10-25T00:00:00",
          "2024-10-30T00:00:00",
          "2024-11-01T00:00:00",
          "2024-11-06T00:00:00",
          "2024-11-08T00:00:00",
          "2024-11-23T00:00:00",
          "2024-11-27T00:00:00",
          "2024-12-04T00:00:00",
          "2024-12-06T00:00:00"
         ],
         "xaxis": "x",
         "y": [
          48.71697067028664,
          49.563374090698694,
          52.651120704745416,
          51.439464264924574,
          40.86931424356224,
          38.52353688851806,
          39.13933302310049,
          38.409560564109924,
          41.98826672643544,
          40.64554869505001,
          32.72865932011195,
          40.24679219245155,
          38.84254124995961,
          39.42300034304121,
          41.64278929555279,
          40.609889830148816,
          39.13194175442671,
          41.197118330650405,
          41.02189208171911,
          42.46453960718902,
          42.53738198443561,
          47.34963096876223,
          51.47171947942875,
          48.86886156391277,
          45.73730741541799,
          48.97570067621071,
          49.07564995785813,
          45.76640049929765,
          49.60888110893535,
          53.770202922207986,
          39.28833456420771,
          39.96766798859269,
          50.199723638452994,
          48.334416400639554,
          54.44339539531239,
          51.28410069617321,
          49.691267361244414,
          49.0743681682635,
          59.25939962103016,
          60.77743257948325,
          58.1135119601776,
          65.2060803437441,
          63.84178420564332,
          70.55881314217403,
          70.83281632316975,
          67.9698228898635,
          63.461336602173745,
          58.5838540631067,
          58.99420239241372,
          54.40972285214915,
          52.91606480547284,
          57.02656354127794,
          60.63363525243601,
          62.06189337026579,
          55.80398989343668,
          57.50214659418056,
          69.08919437727806,
          66.03704020847395,
          68.55321210107437,
          65.5305248096308,
          67.66536339367103,
          65.88840775823438,
          61.992026818274894,
          66.86304455900762,
          69.94188051796127,
          68.25293919232959,
          68.38029118916131,
          66.94637570332897,
          65.33942248990783,
          61.18778233300643,
          61.59159150505519,
          63.91792226775739,
          58.395373815097756,
          51.87793508870283,
          53.937032650929154,
          52.215155931898536,
          51.652184490492985,
          47.79487133067295,
          54.4733147166706,
          55.48308037399774,
          48.07505357249011,
          51.83097776438037,
          45.735045917472206,
          42.8569089508584,
          42.93242960730862,
          47.78410600886066,
          43.8495606618267,
          47.89793317851222,
          39.230530951484326,
          45.87919518564094,
          54.50198634918392,
          58.4151946698034,
          51.52555619845346,
          52.69277072572744,
          44.96299173234208,
          48.33622919834869,
          55.71926722419213,
          48.48928581916505,
          38.24122846518366,
          36.896876775352624,
          38.088723629548994,
          39.86009019751402,
          41.17695612191438,
          38.89214765748578,
          46.58354948560857,
          41.81225902343383,
          45.08814832746594,
          42.33237736475656,
          39.82109201283927,
          41.950520937622144,
          41.941236099369,
          43.86709087201459,
          42.836021361113836,
          43.75237227785176,
          42.97316726089812,
          45.174855629382094,
          46.9278743226672,
          53.10567717143656,
          52.82577892702443,
          57.400143328484354,
          57.78820533753848,
          56.061882242858,
          56.92709813695799,
          60.558006906234894,
          59.48204313725769,
          57.228932487838186,
          58.791335613757965,
          59.97850232316677,
          64.61041453318832,
          67.48314982943967,
          69.04661952248779,
          68.16972255353338,
          66.09942247884231,
          68.60597758725162,
          68.08360809361797,
          69.87023660447583,
          68.32566203245887,
          72.69657037665164,
          72.05721448167584,
          70.6370082624063,
          67.67538262858196,
          68.94465192024369,
          70.99605239769508,
          71.94014214660727,
          70.16432747645696,
          67.16503744290321,
          69.38051186511355,
          66.6239103230931,
          64.16875549556416,
          66.66681517048892,
          57.73592943269301,
          62.13125610606404,
          65.82322548736269,
          65.4858151434017,
          62.40061156794805,
          62.790467028619915,
          69.62614567327367,
          67.03118894361612,
          56.21390640203678,
          59.63024350025844,
          52.684725779345875,
          50.036271545887296,
          48.29503032074022,
          54.02001266654272,
          59.46390605250461,
          50.550864816496556,
          52.55252076402742,
          47.608451202592256,
          57.01229444865787,
          55.040023508663694,
          55.31073600660551,
          54.18393279077063,
          55.940024494106524,
          52.09035226764847,
          51.17415341290141,
          43.93087229444345,
          45.825041368769725,
          51.20236568337712,
          40.812627486375874,
          42.106380472716985,
          44.96299173234208,
          48.33622919834869,
          55.71926722419213,
          48.48928581916505,
          38.24122846518366,
          36.896876775352624,
          38.088723629548994,
          39.86009019751402,
          41.17695612191438,
          38.89214765748578,
          46.58354948560857,
          41.81225902343383,
          45.08814832746594,
          42.33237736475656,
          39.82123745154166,
          41.950520937622144,
          41.941236099369,
          43.86709087201459,
          42.836021361113836,
          43.75237227785176,
          42.97316726089812,
          45.174855629382094,
          46.9278743226672,
          53.10567717143656,
          52.82577892702443,
          57.400143328484354,
          57.78820533753848,
          56.061882242858,
          56.92709813695799,
          60.558006906234894,
          59.48204313725769,
          57.228932487838186,
          58.791335613757965,
          59.97850232316677,
          64.61041453318832,
          67.48314982943967,
          69.04661952248779,
          68.16972255353338,
          66.09942247884231,
          68.60597758725162,
          68.08360809361797,
          69.87023660447583,
          68.32566203245887,
          72.69657037665164,
          72.05721448167584,
          70.6370082624063,
          67.67538262858196,
          68.94465192024369,
          70.99605239769508,
          71.94014214660727,
          70.16432747645696,
          67.16503744290321,
          69.38051186511355,
          66.6239103230931,
          64.16875549556416,
          66.66681517048892,
          57.73592943269301,
          62.13125610606404,
          65.82322548736269,
          65.4858151434017,
          62.40061156794805,
          62.790467028619915,
          69.62614567327367,
          67.03118894361612,
          56.21390640203678,
          59.63024350025844,
          52.684725779345875,
          50.036271545887296,
          48.29503032074022,
          54.02001266654272,
          59.46390605250461,
          50.550864816496556,
          52.55252076402742,
          47.608451202592256,
          57.01229444865787,
          55.040023508663694,
          55.31073600660551,
          54.18393279077063,
          55.940024494106524,
          52.09035226764847,
          51.17415341290141,
          43.93087229444345,
          45.825041368769725,
          51.20236568337712,
          40.812627486375874,
          42.10639716846153
         ],
         "yaxis": "y"
        }
       ],
       "layout": {
        "legend": {
         "tracegroupgap": 0
        },
        "template": {
         "data": {
          "bar": [
           {
            "error_x": {
             "color": "#2a3f5f"
            },
            "error_y": {
             "color": "#2a3f5f"
            },
            "marker": {
             "line": {
              "color": "#E5ECF6",
              "width": 0.5
             },
             "pattern": {
              "fillmode": "overlay",
              "size": 10,
              "solidity": 0.2
             }
            },
            "type": "bar"
           }
          ],
          "barpolar": [
           {
            "marker": {
             "line": {
              "color": "#E5ECF6",
              "width": 0.5
             },
             "pattern": {
              "fillmode": "overlay",
              "size": 10,
              "solidity": 0.2
             }
            },
            "type": "barpolar"
           }
          ],
          "carpet": [
           {
            "aaxis": {
             "endlinecolor": "#2a3f5f",
             "gridcolor": "white",
             "linecolor": "white",
             "minorgridcolor": "white",
             "startlinecolor": "#2a3f5f"
            },
            "baxis": {
             "endlinecolor": "#2a3f5f",
             "gridcolor": "white",
             "linecolor": "white",
             "minorgridcolor": "white",
             "startlinecolor": "#2a3f5f"
            },
            "type": "carpet"
           }
          ],
          "choropleth": [
           {
            "colorbar": {
             "outlinewidth": 0,
             "ticks": ""
            },
            "type": "choropleth"
           }
          ],
          "contour": [
           {
            "colorbar": {
             "outlinewidth": 0,
             "ticks": ""
            },
            "colorscale": [
             [
              0,
              "#0d0887"
             ],
             [
              0.1111111111111111,
              "#46039f"
             ],
             [
              0.2222222222222222,
              "#7201a8"
             ],
             [
              0.3333333333333333,
              "#9c179e"
             ],
             [
              0.4444444444444444,
              "#bd3786"
             ],
             [
              0.5555555555555556,
              "#d8576b"
             ],
             [
              0.6666666666666666,
              "#ed7953"
             ],
             [
              0.7777777777777778,
              "#fb9f3a"
             ],
             [
              0.8888888888888888,
              "#fdca26"
             ],
             [
              1,
              "#f0f921"
             ]
            ],
            "type": "contour"
           }
          ],
          "contourcarpet": [
           {
            "colorbar": {
             "outlinewidth": 0,
             "ticks": ""
            },
            "type": "contourcarpet"
           }
          ],
          "heatmap": [
           {
            "colorbar": {
             "outlinewidth": 0,
             "ticks": ""
            },
            "colorscale": [
             [
              0,
              "#0d0887"
             ],
             [
              0.1111111111111111,
              "#46039f"
             ],
             [
              0.2222222222222222,
              "#7201a8"
             ],
             [
              0.3333333333333333,
              "#9c179e"
             ],
             [
              0.4444444444444444,
              "#bd3786"
             ],
             [
              0.5555555555555556,
              "#d8576b"
             ],
             [
              0.6666666666666666,
              "#ed7953"
             ],
             [
              0.7777777777777778,
              "#fb9f3a"
             ],
             [
              0.8888888888888888,
              "#fdca26"
             ],
             [
              1,
              "#f0f921"
             ]
            ],
            "type": "heatmap"
           }
          ],
          "heatmapgl": [
           {
            "colorbar": {
             "outlinewidth": 0,
             "ticks": ""
            },
            "colorscale": [
             [
              0,
              "#0d0887"
             ],
             [
              0.1111111111111111,
              "#46039f"
             ],
             [
              0.2222222222222222,
              "#7201a8"
             ],
             [
              0.3333333333333333,
              "#9c179e"
             ],
             [
              0.4444444444444444,
              "#bd3786"
             ],
             [
              0.5555555555555556,
              "#d8576b"
             ],
             [
              0.6666666666666666,
              "#ed7953"
             ],
             [
              0.7777777777777778,
              "#fb9f3a"
             ],
             [
              0.8888888888888888,
              "#fdca26"
             ],
             [
              1,
              "#f0f921"
             ]
            ],
            "type": "heatmapgl"
           }
          ],
          "histogram": [
           {
            "marker": {
             "pattern": {
              "fillmode": "overlay",
              "size": 10,
              "solidity": 0.2
             }
            },
            "type": "histogram"
           }
          ],
          "histogram2d": [
           {
            "colorbar": {
             "outlinewidth": 0,
             "ticks": ""
            },
            "colorscale": [
             [
              0,
              "#0d0887"
             ],
             [
              0.1111111111111111,
              "#46039f"
             ],
             [
              0.2222222222222222,
              "#7201a8"
             ],
             [
              0.3333333333333333,
              "#9c179e"
             ],
             [
              0.4444444444444444,
              "#bd3786"
             ],
             [
              0.5555555555555556,
              "#d8576b"
             ],
             [
              0.6666666666666666,
              "#ed7953"
             ],
             [
              0.7777777777777778,
              "#fb9f3a"
             ],
             [
              0.8888888888888888,
              "#fdca26"
             ],
             [
              1,
              "#f0f921"
             ]
            ],
            "type": "histogram2d"
           }
          ],
          "histogram2dcontour": [
           {
            "colorbar": {
             "outlinewidth": 0,
             "ticks": ""
            },
            "colorscale": [
             [
              0,
              "#0d0887"
             ],
             [
              0.1111111111111111,
              "#46039f"
             ],
             [
              0.2222222222222222,
              "#7201a8"
             ],
             [
              0.3333333333333333,
              "#9c179e"
             ],
             [
              0.4444444444444444,
              "#bd3786"
             ],
             [
              0.5555555555555556,
              "#d8576b"
             ],
             [
              0.6666666666666666,
              "#ed7953"
             ],
             [
              0.7777777777777778,
              "#fb9f3a"
             ],
             [
              0.8888888888888888,
              "#fdca26"
             ],
             [
              1,
              "#f0f921"
             ]
            ],
            "type": "histogram2dcontour"
           }
          ],
          "mesh3d": [
           {
            "colorbar": {
             "outlinewidth": 0,
             "ticks": ""
            },
            "type": "mesh3d"
           }
          ],
          "parcoords": [
           {
            "line": {
             "colorbar": {
              "outlinewidth": 0,
              "ticks": ""
             }
            },
            "type": "parcoords"
           }
          ],
          "pie": [
           {
            "automargin": true,
            "type": "pie"
           }
          ],
          "scatter": [
           {
            "fillpattern": {
             "fillmode": "overlay",
             "size": 10,
             "solidity": 0.2
            },
            "type": "scatter"
           }
          ],
          "scatter3d": [
           {
            "line": {
             "colorbar": {
              "outlinewidth": 0,
              "ticks": ""
             }
            },
            "marker": {
             "colorbar": {
              "outlinewidth": 0,
              "ticks": ""
             }
            },
            "type": "scatter3d"
           }
          ],
          "scattercarpet": [
           {
            "marker": {
             "colorbar": {
              "outlinewidth": 0,
              "ticks": ""
             }
            },
            "type": "scattercarpet"
           }
          ],
          "scattergeo": [
           {
            "marker": {
             "colorbar": {
              "outlinewidth": 0,
              "ticks": ""
             }
            },
            "type": "scattergeo"
           }
          ],
          "scattergl": [
           {
            "marker": {
             "colorbar": {
              "outlinewidth": 0,
              "ticks": ""
             }
            },
            "type": "scattergl"
           }
          ],
          "scattermapbox": [
           {
            "marker": {
             "colorbar": {
              "outlinewidth": 0,
              "ticks": ""
             }
            },
            "type": "scattermapbox"
           }
          ],
          "scatterpolar": [
           {
            "marker": {
             "colorbar": {
              "outlinewidth": 0,
              "ticks": ""
             }
            },
            "type": "scatterpolar"
           }
          ],
          "scatterpolargl": [
           {
            "marker": {
             "colorbar": {
              "outlinewidth": 0,
              "ticks": ""
             }
            },
            "type": "scatterpolargl"
           }
          ],
          "scatterternary": [
           {
            "marker": {
             "colorbar": {
              "outlinewidth": 0,
              "ticks": ""
             }
            },
            "type": "scatterternary"
           }
          ],
          "surface": [
           {
            "colorbar": {
             "outlinewidth": 0,
             "ticks": ""
            },
            "colorscale": [
             [
              0,
              "#0d0887"
             ],
             [
              0.1111111111111111,
              "#46039f"
             ],
             [
              0.2222222222222222,
              "#7201a8"
             ],
             [
              0.3333333333333333,
              "#9c179e"
             ],
             [
              0.4444444444444444,
              "#bd3786"
             ],
             [
              0.5555555555555556,
              "#d8576b"
             ],
             [
              0.6666666666666666,
              "#ed7953"
             ],
             [
              0.7777777777777778,
              "#fb9f3a"
             ],
             [
              0.8888888888888888,
              "#fdca26"
             ],
             [
              1,
              "#f0f921"
             ]
            ],
            "type": "surface"
           }
          ],
          "table": [
           {
            "cells": {
             "fill": {
              "color": "#EBF0F8"
             },
             "line": {
              "color": "white"
             }
            },
            "header": {
             "fill": {
              "color": "#C8D4E3"
             },
             "line": {
              "color": "white"
             }
            },
            "type": "table"
           }
          ]
         },
         "layout": {
          "annotationdefaults": {
           "arrowcolor": "#2a3f5f",
           "arrowhead": 0,
           "arrowwidth": 1
          },
          "autotypenumbers": "strict",
          "coloraxis": {
           "colorbar": {
            "outlinewidth": 0,
            "ticks": ""
           }
          },
          "colorscale": {
           "diverging": [
            [
             0,
             "#8e0152"
            ],
            [
             0.1,
             "#c51b7d"
            ],
            [
             0.2,
             "#de77ae"
            ],
            [
             0.3,
             "#f1b6da"
            ],
            [
             0.4,
             "#fde0ef"
            ],
            [
             0.5,
             "#f7f7f7"
            ],
            [
             0.6,
             "#e6f5d0"
            ],
            [
             0.7,
             "#b8e186"
            ],
            [
             0.8,
             "#7fbc41"
            ],
            [
             0.9,
             "#4d9221"
            ],
            [
             1,
             "#276419"
            ]
           ],
           "sequential": [
            [
             0,
             "#0d0887"
            ],
            [
             0.1111111111111111,
             "#46039f"
            ],
            [
             0.2222222222222222,
             "#7201a8"
            ],
            [
             0.3333333333333333,
             "#9c179e"
            ],
            [
             0.4444444444444444,
             "#bd3786"
            ],
            [
             0.5555555555555556,
             "#d8576b"
            ],
            [
             0.6666666666666666,
             "#ed7953"
            ],
            [
             0.7777777777777778,
             "#fb9f3a"
            ],
            [
             0.8888888888888888,
             "#fdca26"
            ],
            [
             1,
             "#f0f921"
            ]
           ],
           "sequentialminus": [
            [
             0,
             "#0d0887"
            ],
            [
             0.1111111111111111,
             "#46039f"
            ],
            [
             0.2222222222222222,
             "#7201a8"
            ],
            [
             0.3333333333333333,
             "#9c179e"
            ],
            [
             0.4444444444444444,
             "#bd3786"
            ],
            [
             0.5555555555555556,
             "#d8576b"
            ],
            [
             0.6666666666666666,
             "#ed7953"
            ],
            [
             0.7777777777777778,
             "#fb9f3a"
            ],
            [
             0.8888888888888888,
             "#fdca26"
            ],
            [
             1,
             "#f0f921"
            ]
           ]
          },
          "colorway": [
           "#636efa",
           "#EF553B",
           "#00cc96",
           "#ab63fa",
           "#FFA15A",
           "#19d3f3",
           "#FF6692",
           "#B6E880",
           "#FF97FF",
           "#FECB52"
          ],
          "font": {
           "color": "#2a3f5f"
          },
          "geo": {
           "bgcolor": "white",
           "lakecolor": "white",
           "landcolor": "#E5ECF6",
           "showlakes": true,
           "showland": true,
           "subunitcolor": "white"
          },
          "hoverlabel": {
           "align": "left"
          },
          "hovermode": "closest",
          "mapbox": {
           "style": "light"
          },
          "paper_bgcolor": "white",
          "plot_bgcolor": "#E5ECF6",
          "polar": {
           "angularaxis": {
            "gridcolor": "white",
            "linecolor": "white",
            "ticks": ""
           },
           "bgcolor": "#E5ECF6",
           "radialaxis": {
            "gridcolor": "white",
            "linecolor": "white",
            "ticks": ""
           }
          },
          "scene": {
           "xaxis": {
            "backgroundcolor": "#E5ECF6",
            "gridcolor": "white",
            "gridwidth": 2,
            "linecolor": "white",
            "showbackground": true,
            "ticks": "",
            "zerolinecolor": "white"
           },
           "yaxis": {
            "backgroundcolor": "#E5ECF6",
            "gridcolor": "white",
            "gridwidth": 2,
            "linecolor": "white",
            "showbackground": true,
            "ticks": "",
            "zerolinecolor": "white"
           },
           "zaxis": {
            "backgroundcolor": "#E5ECF6",
            "gridcolor": "white",
            "gridwidth": 2,
            "linecolor": "white",
            "showbackground": true,
            "ticks": "",
            "zerolinecolor": "white"
           }
          },
          "shapedefaults": {
           "line": {
            "color": "#2a3f5f"
           }
          },
          "ternary": {
           "aaxis": {
            "gridcolor": "white",
            "linecolor": "white",
            "ticks": ""
           },
           "baxis": {
            "gridcolor": "white",
            "linecolor": "white",
            "ticks": ""
           },
           "bgcolor": "#E5ECF6",
           "caxis": {
            "gridcolor": "white",
            "linecolor": "white",
            "ticks": ""
           }
          },
          "title": {
           "x": 0.05
          },
          "xaxis": {
           "automargin": true,
           "gridcolor": "white",
           "linecolor": "white",
           "ticks": "",
           "title": {
            "standoff": 15
           },
           "zerolinecolor": "white",
           "zerolinewidth": 2
          },
          "yaxis": {
           "automargin": true,
           "gridcolor": "white",
           "linecolor": "white",
           "ticks": "",
           "title": {
            "standoff": 15
           },
           "zerolinecolor": "white",
           "zerolinewidth": 2
          }
         }
        },
        "title": {
         "text": "IQA Médio ao longo do Tempo"
        },
        "xaxis": {
         "anchor": "y",
         "domain": [
          0,
          1
         ],
         "title": {
          "text": "data_medicao"
         }
        },
        "yaxis": {
         "anchor": "x",
         "domain": [
          0,
          1
         ],
         "title": {
          "text": "Índice de Qualidade da Água (IQA)"
         }
        }
       }
      }
     },
     "metadata": {},
     "output_type": "display_data"
    }
   ],
   "source": [
    "import plotly.express as px\n",
    "\n",
    "saneamento_iqa_diario = saneamento_iqa.resample('D').mean()\n",
    "\n",
    "saneamento_iqa_diario.dropna(inplace=True)\n",
    "\n",
    "fig = px.line(saneamento_iqa_diario, x=saneamento_iqa_diario.index, y='IQA', title='IQA Médio ao longo do Tempo',\n",
    "              labels={'x': 'Data de Medição', 'IQA': 'Índice de Qualidade da Água (IQA)'},\n",
    "              markers=False)\n",
    "\n",
    "fig.show()\n"
   ]
  }
 ],
 "metadata": {
  "kernelspec": {
   "display_name": "Python 3",
   "language": "python",
   "name": "python3"
  },
  "language_info": {
   "codemirror_mode": {
    "name": "ipython",
    "version": 3
   },
   "file_extension": ".py",
   "mimetype": "text/x-python",
   "name": "python",
   "nbconvert_exporter": "python",
   "pygments_lexer": "ipython3",
   "version": "3.10.12"
  }
 },
 "nbformat": 4,
 "nbformat_minor": 2
}
